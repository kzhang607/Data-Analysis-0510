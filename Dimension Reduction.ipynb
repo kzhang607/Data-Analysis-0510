{
 "cells": [
  {
   "cell_type": "code",
   "execution_count": 55,
   "metadata": {},
   "outputs": [],
   "source": [
    "import pandas as pd\n",
    "import numpy as np\n",
    "import seaborn as sns\n",
    "%matplotlib inline\n",
    "\n",
    "import matplotlib.pyplot as pl\n",
    "\n",
    "from sklearn import preprocessing as prep\n",
    "from scipy import stats\n",
    "from sklearn import preprocessing as prep"
   ]
  },
  {
   "cell_type": "markdown",
   "metadata": {},
   "source": [
    "# Reading and Combining Datasets"
   ]
  },
  {
   "cell_type": "code",
   "execution_count": 56,
   "metadata": {},
   "outputs": [],
   "source": [
    "df_mat = pd.read_csv(\"student-mat.csv\", sep = ';')"
   ]
  },
  {
   "cell_type": "code",
   "execution_count": 57,
   "metadata": {},
   "outputs": [
    {
     "data": {
      "text/html": [
       "<div>\n",
       "<style scoped>\n",
       "    .dataframe tbody tr th:only-of-type {\n",
       "        vertical-align: middle;\n",
       "    }\n",
       "\n",
       "    .dataframe tbody tr th {\n",
       "        vertical-align: top;\n",
       "    }\n",
       "\n",
       "    .dataframe thead th {\n",
       "        text-align: right;\n",
       "    }\n",
       "</style>\n",
       "<table border=\"1\" class=\"dataframe\">\n",
       "  <thead>\n",
       "    <tr style=\"text-align: right;\">\n",
       "      <th></th>\n",
       "      <th>school</th>\n",
       "      <th>sex</th>\n",
       "      <th>age</th>\n",
       "      <th>address</th>\n",
       "      <th>famsize</th>\n",
       "      <th>Pstatus</th>\n",
       "      <th>Medu</th>\n",
       "      <th>Fedu</th>\n",
       "      <th>Mjob</th>\n",
       "      <th>Fjob</th>\n",
       "      <th>...</th>\n",
       "      <th>famrel</th>\n",
       "      <th>freetime</th>\n",
       "      <th>goout</th>\n",
       "      <th>Dalc</th>\n",
       "      <th>Walc</th>\n",
       "      <th>health</th>\n",
       "      <th>absences</th>\n",
       "      <th>G1</th>\n",
       "      <th>G2</th>\n",
       "      <th>G3</th>\n",
       "    </tr>\n",
       "  </thead>\n",
       "  <tbody>\n",
       "    <tr>\n",
       "      <th>0</th>\n",
       "      <td>GP</td>\n",
       "      <td>F</td>\n",
       "      <td>18</td>\n",
       "      <td>U</td>\n",
       "      <td>GT3</td>\n",
       "      <td>A</td>\n",
       "      <td>4</td>\n",
       "      <td>4</td>\n",
       "      <td>at_home</td>\n",
       "      <td>teacher</td>\n",
       "      <td>...</td>\n",
       "      <td>4</td>\n",
       "      <td>3</td>\n",
       "      <td>4</td>\n",
       "      <td>1</td>\n",
       "      <td>1</td>\n",
       "      <td>3</td>\n",
       "      <td>6</td>\n",
       "      <td>5</td>\n",
       "      <td>6</td>\n",
       "      <td>6</td>\n",
       "    </tr>\n",
       "    <tr>\n",
       "      <th>1</th>\n",
       "      <td>GP</td>\n",
       "      <td>F</td>\n",
       "      <td>17</td>\n",
       "      <td>U</td>\n",
       "      <td>GT3</td>\n",
       "      <td>T</td>\n",
       "      <td>1</td>\n",
       "      <td>1</td>\n",
       "      <td>at_home</td>\n",
       "      <td>other</td>\n",
       "      <td>...</td>\n",
       "      <td>5</td>\n",
       "      <td>3</td>\n",
       "      <td>3</td>\n",
       "      <td>1</td>\n",
       "      <td>1</td>\n",
       "      <td>3</td>\n",
       "      <td>4</td>\n",
       "      <td>5</td>\n",
       "      <td>5</td>\n",
       "      <td>6</td>\n",
       "    </tr>\n",
       "    <tr>\n",
       "      <th>2</th>\n",
       "      <td>GP</td>\n",
       "      <td>F</td>\n",
       "      <td>15</td>\n",
       "      <td>U</td>\n",
       "      <td>LE3</td>\n",
       "      <td>T</td>\n",
       "      <td>1</td>\n",
       "      <td>1</td>\n",
       "      <td>at_home</td>\n",
       "      <td>other</td>\n",
       "      <td>...</td>\n",
       "      <td>4</td>\n",
       "      <td>3</td>\n",
       "      <td>2</td>\n",
       "      <td>2</td>\n",
       "      <td>3</td>\n",
       "      <td>3</td>\n",
       "      <td>10</td>\n",
       "      <td>7</td>\n",
       "      <td>8</td>\n",
       "      <td>10</td>\n",
       "    </tr>\n",
       "    <tr>\n",
       "      <th>3</th>\n",
       "      <td>GP</td>\n",
       "      <td>F</td>\n",
       "      <td>15</td>\n",
       "      <td>U</td>\n",
       "      <td>GT3</td>\n",
       "      <td>T</td>\n",
       "      <td>4</td>\n",
       "      <td>2</td>\n",
       "      <td>health</td>\n",
       "      <td>services</td>\n",
       "      <td>...</td>\n",
       "      <td>3</td>\n",
       "      <td>2</td>\n",
       "      <td>2</td>\n",
       "      <td>1</td>\n",
       "      <td>1</td>\n",
       "      <td>5</td>\n",
       "      <td>2</td>\n",
       "      <td>15</td>\n",
       "      <td>14</td>\n",
       "      <td>15</td>\n",
       "    </tr>\n",
       "    <tr>\n",
       "      <th>4</th>\n",
       "      <td>GP</td>\n",
       "      <td>F</td>\n",
       "      <td>16</td>\n",
       "      <td>U</td>\n",
       "      <td>GT3</td>\n",
       "      <td>T</td>\n",
       "      <td>3</td>\n",
       "      <td>3</td>\n",
       "      <td>other</td>\n",
       "      <td>other</td>\n",
       "      <td>...</td>\n",
       "      <td>4</td>\n",
       "      <td>3</td>\n",
       "      <td>2</td>\n",
       "      <td>1</td>\n",
       "      <td>2</td>\n",
       "      <td>5</td>\n",
       "      <td>4</td>\n",
       "      <td>6</td>\n",
       "      <td>10</td>\n",
       "      <td>10</td>\n",
       "    </tr>\n",
       "  </tbody>\n",
       "</table>\n",
       "<p>5 rows × 33 columns</p>\n",
       "</div>"
      ],
      "text/plain": [
       "  school sex  age address famsize Pstatus  Medu  Fedu     Mjob      Fjob  ...  \\\n",
       "0     GP   F   18       U     GT3       A     4     4  at_home   teacher  ...   \n",
       "1     GP   F   17       U     GT3       T     1     1  at_home     other  ...   \n",
       "2     GP   F   15       U     LE3       T     1     1  at_home     other  ...   \n",
       "3     GP   F   15       U     GT3       T     4     2   health  services  ...   \n",
       "4     GP   F   16       U     GT3       T     3     3    other     other  ...   \n",
       "\n",
       "  famrel freetime  goout  Dalc  Walc health absences  G1  G2  G3  \n",
       "0      4        3      4     1     1      3        6   5   6   6  \n",
       "1      5        3      3     1     1      3        4   5   5   6  \n",
       "2      4        3      2     2     3      3       10   7   8  10  \n",
       "3      3        2      2     1     1      5        2  15  14  15  \n",
       "4      4        3      2     1     2      5        4   6  10  10  \n",
       "\n",
       "[5 rows x 33 columns]"
      ]
     },
     "execution_count": 57,
     "metadata": {},
     "output_type": "execute_result"
    }
   ],
   "source": [
    "df_mat.head()"
   ]
  },
  {
   "cell_type": "code",
   "execution_count": 58,
   "metadata": {},
   "outputs": [],
   "source": [
    "df_por = pd.read_csv(\"student-por.csv\", sep = \";\")"
   ]
  },
  {
   "cell_type": "code",
   "execution_count": 59,
   "metadata": {},
   "outputs": [
    {
     "data": {
      "text/html": [
       "<div>\n",
       "<style scoped>\n",
       "    .dataframe tbody tr th:only-of-type {\n",
       "        vertical-align: middle;\n",
       "    }\n",
       "\n",
       "    .dataframe tbody tr th {\n",
       "        vertical-align: top;\n",
       "    }\n",
       "\n",
       "    .dataframe thead th {\n",
       "        text-align: right;\n",
       "    }\n",
       "</style>\n",
       "<table border=\"1\" class=\"dataframe\">\n",
       "  <thead>\n",
       "    <tr style=\"text-align: right;\">\n",
       "      <th></th>\n",
       "      <th>school</th>\n",
       "      <th>sex</th>\n",
       "      <th>age</th>\n",
       "      <th>address</th>\n",
       "      <th>famsize</th>\n",
       "      <th>Pstatus</th>\n",
       "      <th>Medu</th>\n",
       "      <th>Fedu</th>\n",
       "      <th>Mjob</th>\n",
       "      <th>Fjob</th>\n",
       "      <th>...</th>\n",
       "      <th>famrel</th>\n",
       "      <th>freetime</th>\n",
       "      <th>goout</th>\n",
       "      <th>Dalc</th>\n",
       "      <th>Walc</th>\n",
       "      <th>health</th>\n",
       "      <th>absences</th>\n",
       "      <th>G1</th>\n",
       "      <th>G2</th>\n",
       "      <th>G3</th>\n",
       "    </tr>\n",
       "  </thead>\n",
       "  <tbody>\n",
       "    <tr>\n",
       "      <th>0</th>\n",
       "      <td>GP</td>\n",
       "      <td>F</td>\n",
       "      <td>18</td>\n",
       "      <td>U</td>\n",
       "      <td>GT3</td>\n",
       "      <td>A</td>\n",
       "      <td>4</td>\n",
       "      <td>4</td>\n",
       "      <td>at_home</td>\n",
       "      <td>teacher</td>\n",
       "      <td>...</td>\n",
       "      <td>4</td>\n",
       "      <td>3</td>\n",
       "      <td>4</td>\n",
       "      <td>1</td>\n",
       "      <td>1</td>\n",
       "      <td>3</td>\n",
       "      <td>4</td>\n",
       "      <td>0</td>\n",
       "      <td>11</td>\n",
       "      <td>11</td>\n",
       "    </tr>\n",
       "    <tr>\n",
       "      <th>1</th>\n",
       "      <td>GP</td>\n",
       "      <td>F</td>\n",
       "      <td>17</td>\n",
       "      <td>U</td>\n",
       "      <td>GT3</td>\n",
       "      <td>T</td>\n",
       "      <td>1</td>\n",
       "      <td>1</td>\n",
       "      <td>at_home</td>\n",
       "      <td>other</td>\n",
       "      <td>...</td>\n",
       "      <td>5</td>\n",
       "      <td>3</td>\n",
       "      <td>3</td>\n",
       "      <td>1</td>\n",
       "      <td>1</td>\n",
       "      <td>3</td>\n",
       "      <td>2</td>\n",
       "      <td>9</td>\n",
       "      <td>11</td>\n",
       "      <td>11</td>\n",
       "    </tr>\n",
       "    <tr>\n",
       "      <th>2</th>\n",
       "      <td>GP</td>\n",
       "      <td>F</td>\n",
       "      <td>15</td>\n",
       "      <td>U</td>\n",
       "      <td>LE3</td>\n",
       "      <td>T</td>\n",
       "      <td>1</td>\n",
       "      <td>1</td>\n",
       "      <td>at_home</td>\n",
       "      <td>other</td>\n",
       "      <td>...</td>\n",
       "      <td>4</td>\n",
       "      <td>3</td>\n",
       "      <td>2</td>\n",
       "      <td>2</td>\n",
       "      <td>3</td>\n",
       "      <td>3</td>\n",
       "      <td>6</td>\n",
       "      <td>12</td>\n",
       "      <td>13</td>\n",
       "      <td>12</td>\n",
       "    </tr>\n",
       "    <tr>\n",
       "      <th>3</th>\n",
       "      <td>GP</td>\n",
       "      <td>F</td>\n",
       "      <td>15</td>\n",
       "      <td>U</td>\n",
       "      <td>GT3</td>\n",
       "      <td>T</td>\n",
       "      <td>4</td>\n",
       "      <td>2</td>\n",
       "      <td>health</td>\n",
       "      <td>services</td>\n",
       "      <td>...</td>\n",
       "      <td>3</td>\n",
       "      <td>2</td>\n",
       "      <td>2</td>\n",
       "      <td>1</td>\n",
       "      <td>1</td>\n",
       "      <td>5</td>\n",
       "      <td>0</td>\n",
       "      <td>14</td>\n",
       "      <td>14</td>\n",
       "      <td>14</td>\n",
       "    </tr>\n",
       "    <tr>\n",
       "      <th>4</th>\n",
       "      <td>GP</td>\n",
       "      <td>F</td>\n",
       "      <td>16</td>\n",
       "      <td>U</td>\n",
       "      <td>GT3</td>\n",
       "      <td>T</td>\n",
       "      <td>3</td>\n",
       "      <td>3</td>\n",
       "      <td>other</td>\n",
       "      <td>other</td>\n",
       "      <td>...</td>\n",
       "      <td>4</td>\n",
       "      <td>3</td>\n",
       "      <td>2</td>\n",
       "      <td>1</td>\n",
       "      <td>2</td>\n",
       "      <td>5</td>\n",
       "      <td>0</td>\n",
       "      <td>11</td>\n",
       "      <td>13</td>\n",
       "      <td>13</td>\n",
       "    </tr>\n",
       "  </tbody>\n",
       "</table>\n",
       "<p>5 rows × 33 columns</p>\n",
       "</div>"
      ],
      "text/plain": [
       "  school sex  age address famsize Pstatus  Medu  Fedu     Mjob      Fjob  ...  \\\n",
       "0     GP   F   18       U     GT3       A     4     4  at_home   teacher  ...   \n",
       "1     GP   F   17       U     GT3       T     1     1  at_home     other  ...   \n",
       "2     GP   F   15       U     LE3       T     1     1  at_home     other  ...   \n",
       "3     GP   F   15       U     GT3       T     4     2   health  services  ...   \n",
       "4     GP   F   16       U     GT3       T     3     3    other     other  ...   \n",
       "\n",
       "  famrel freetime  goout  Dalc  Walc health absences  G1  G2  G3  \n",
       "0      4        3      4     1     1      3        4   0  11  11  \n",
       "1      5        3      3     1     1      3        2   9  11  11  \n",
       "2      4        3      2     2     3      3        6  12  13  12  \n",
       "3      3        2      2     1     1      5        0  14  14  14  \n",
       "4      4        3      2     1     2      5        0  11  13  13  \n",
       "\n",
       "[5 rows x 33 columns]"
      ]
     },
     "execution_count": 59,
     "metadata": {},
     "output_type": "execute_result"
    }
   ],
   "source": [
    "df_por.head()"
   ]
  },
  {
   "cell_type": "code",
   "execution_count": 60,
   "metadata": {},
   "outputs": [
    {
     "data": {
      "text/html": [
       "<div>\n",
       "<style scoped>\n",
       "    .dataframe tbody tr th:only-of-type {\n",
       "        vertical-align: middle;\n",
       "    }\n",
       "\n",
       "    .dataframe tbody tr th {\n",
       "        vertical-align: top;\n",
       "    }\n",
       "\n",
       "    .dataframe thead th {\n",
       "        text-align: right;\n",
       "    }\n",
       "</style>\n",
       "<table border=\"1\" class=\"dataframe\">\n",
       "  <thead>\n",
       "    <tr style=\"text-align: right;\">\n",
       "      <th></th>\n",
       "      <th>school</th>\n",
       "      <th>sex</th>\n",
       "      <th>age</th>\n",
       "      <th>address</th>\n",
       "      <th>famsize</th>\n",
       "      <th>Pstatus</th>\n",
       "      <th>Medu</th>\n",
       "      <th>Fedu</th>\n",
       "      <th>Mjob</th>\n",
       "      <th>Fjob</th>\n",
       "      <th>...</th>\n",
       "      <th>famrel</th>\n",
       "      <th>freetime</th>\n",
       "      <th>goout</th>\n",
       "      <th>Dalc</th>\n",
       "      <th>Walc</th>\n",
       "      <th>health</th>\n",
       "      <th>absences</th>\n",
       "      <th>G1</th>\n",
       "      <th>G2</th>\n",
       "      <th>G3</th>\n",
       "    </tr>\n",
       "  </thead>\n",
       "  <tbody>\n",
       "    <tr>\n",
       "      <th>0</th>\n",
       "      <td>GP</td>\n",
       "      <td>F</td>\n",
       "      <td>18</td>\n",
       "      <td>U</td>\n",
       "      <td>GT3</td>\n",
       "      <td>A</td>\n",
       "      <td>4</td>\n",
       "      <td>4</td>\n",
       "      <td>at_home</td>\n",
       "      <td>teacher</td>\n",
       "      <td>...</td>\n",
       "      <td>4</td>\n",
       "      <td>3</td>\n",
       "      <td>4</td>\n",
       "      <td>1</td>\n",
       "      <td>1</td>\n",
       "      <td>3</td>\n",
       "      <td>6</td>\n",
       "      <td>5</td>\n",
       "      <td>6</td>\n",
       "      <td>6</td>\n",
       "    </tr>\n",
       "    <tr>\n",
       "      <th>1</th>\n",
       "      <td>GP</td>\n",
       "      <td>F</td>\n",
       "      <td>17</td>\n",
       "      <td>U</td>\n",
       "      <td>GT3</td>\n",
       "      <td>T</td>\n",
       "      <td>1</td>\n",
       "      <td>1</td>\n",
       "      <td>at_home</td>\n",
       "      <td>other</td>\n",
       "      <td>...</td>\n",
       "      <td>5</td>\n",
       "      <td>3</td>\n",
       "      <td>3</td>\n",
       "      <td>1</td>\n",
       "      <td>1</td>\n",
       "      <td>3</td>\n",
       "      <td>4</td>\n",
       "      <td>5</td>\n",
       "      <td>5</td>\n",
       "      <td>6</td>\n",
       "    </tr>\n",
       "    <tr>\n",
       "      <th>2</th>\n",
       "      <td>GP</td>\n",
       "      <td>F</td>\n",
       "      <td>15</td>\n",
       "      <td>U</td>\n",
       "      <td>LE3</td>\n",
       "      <td>T</td>\n",
       "      <td>1</td>\n",
       "      <td>1</td>\n",
       "      <td>at_home</td>\n",
       "      <td>other</td>\n",
       "      <td>...</td>\n",
       "      <td>4</td>\n",
       "      <td>3</td>\n",
       "      <td>2</td>\n",
       "      <td>2</td>\n",
       "      <td>3</td>\n",
       "      <td>3</td>\n",
       "      <td>10</td>\n",
       "      <td>7</td>\n",
       "      <td>8</td>\n",
       "      <td>10</td>\n",
       "    </tr>\n",
       "    <tr>\n",
       "      <th>3</th>\n",
       "      <td>GP</td>\n",
       "      <td>F</td>\n",
       "      <td>15</td>\n",
       "      <td>U</td>\n",
       "      <td>GT3</td>\n",
       "      <td>T</td>\n",
       "      <td>4</td>\n",
       "      <td>2</td>\n",
       "      <td>health</td>\n",
       "      <td>services</td>\n",
       "      <td>...</td>\n",
       "      <td>3</td>\n",
       "      <td>2</td>\n",
       "      <td>2</td>\n",
       "      <td>1</td>\n",
       "      <td>1</td>\n",
       "      <td>5</td>\n",
       "      <td>2</td>\n",
       "      <td>15</td>\n",
       "      <td>14</td>\n",
       "      <td>15</td>\n",
       "    </tr>\n",
       "    <tr>\n",
       "      <th>4</th>\n",
       "      <td>GP</td>\n",
       "      <td>F</td>\n",
       "      <td>16</td>\n",
       "      <td>U</td>\n",
       "      <td>GT3</td>\n",
       "      <td>T</td>\n",
       "      <td>3</td>\n",
       "      <td>3</td>\n",
       "      <td>other</td>\n",
       "      <td>other</td>\n",
       "      <td>...</td>\n",
       "      <td>4</td>\n",
       "      <td>3</td>\n",
       "      <td>2</td>\n",
       "      <td>1</td>\n",
       "      <td>2</td>\n",
       "      <td>5</td>\n",
       "      <td>4</td>\n",
       "      <td>6</td>\n",
       "      <td>10</td>\n",
       "      <td>10</td>\n",
       "    </tr>\n",
       "  </tbody>\n",
       "</table>\n",
       "<p>5 rows × 33 columns</p>\n",
       "</div>"
      ],
      "text/plain": [
       "  school sex  age address famsize Pstatus  Medu  Fedu     Mjob      Fjob  ...  \\\n",
       "0     GP   F   18       U     GT3       A     4     4  at_home   teacher  ...   \n",
       "1     GP   F   17       U     GT3       T     1     1  at_home     other  ...   \n",
       "2     GP   F   15       U     LE3       T     1     1  at_home     other  ...   \n",
       "3     GP   F   15       U     GT3       T     4     2   health  services  ...   \n",
       "4     GP   F   16       U     GT3       T     3     3    other     other  ...   \n",
       "\n",
       "  famrel freetime  goout  Dalc  Walc health absences  G1  G2  G3  \n",
       "0      4        3      4     1     1      3        6   5   6   6  \n",
       "1      5        3      3     1     1      3        4   5   5   6  \n",
       "2      4        3      2     2     3      3       10   7   8  10  \n",
       "3      3        2      2     1     1      5        2  15  14  15  \n",
       "4      4        3      2     1     2      5        4   6  10  10  \n",
       "\n",
       "[5 rows x 33 columns]"
      ]
     },
     "execution_count": 60,
     "metadata": {},
     "output_type": "execute_result"
    }
   ],
   "source": [
    "all_data = pd.concat([df_mat, df_por])\n",
    "all_data.head()"
   ]
  },
  {
   "cell_type": "markdown",
   "metadata": {},
   "source": [
    "# Check For Missing Values"
   ]
  },
  {
   "cell_type": "code",
   "execution_count": 61,
   "metadata": {
    "scrolled": true
   },
   "outputs": [
    {
     "data": {
      "text/plain": [
       "school        0\n",
       "sex           0\n",
       "age           0\n",
       "address       0\n",
       "famsize       0\n",
       "Pstatus       0\n",
       "Medu          0\n",
       "Fedu          0\n",
       "Mjob          0\n",
       "Fjob          0\n",
       "reason        0\n",
       "guardian      0\n",
       "traveltime    0\n",
       "studytime     0\n",
       "failures      0\n",
       "schoolsup     0\n",
       "famsup        0\n",
       "paid          0\n",
       "activities    0\n",
       "nursery       0\n",
       "higher        0\n",
       "internet      0\n",
       "romantic      0\n",
       "famrel        0\n",
       "freetime      0\n",
       "goout         0\n",
       "Dalc          0\n",
       "Walc          0\n",
       "health        0\n",
       "absences      0\n",
       "G1            0\n",
       "G2            0\n",
       "G3            0\n",
       "dtype: int64"
      ]
     },
     "execution_count": 61,
     "metadata": {},
     "output_type": "execute_result"
    }
   ],
   "source": [
    "#checking for missing values\n",
    "all_data.isnull().sum()\n",
    "#no initial missing values"
   ]
  },
  {
   "cell_type": "markdown",
   "metadata": {},
   "source": [
    "# Check For Outliers"
   ]
  },
  {
   "cell_type": "code",
   "execution_count": 62,
   "metadata": {},
   "outputs": [
    {
     "data": {
      "text/plain": [
       "school        object\n",
       "sex           object\n",
       "age            int64\n",
       "address       object\n",
       "famsize       object\n",
       "Pstatus       object\n",
       "Medu           int64\n",
       "Fedu           int64\n",
       "Mjob          object\n",
       "Fjob          object\n",
       "reason        object\n",
       "guardian      object\n",
       "traveltime     int64\n",
       "studytime      int64\n",
       "failures       int64\n",
       "schoolsup     object\n",
       "famsup        object\n",
       "paid          object\n",
       "activities    object\n",
       "nursery       object\n",
       "higher        object\n",
       "internet      object\n",
       "romantic      object\n",
       "famrel         int64\n",
       "freetime       int64\n",
       "goout          int64\n",
       "Dalc           int64\n",
       "Walc           int64\n",
       "health         int64\n",
       "absences       int64\n",
       "G1             int64\n",
       "G2             int64\n",
       "G3             int64\n",
       "dtype: object"
      ]
     },
     "execution_count": 62,
     "metadata": {},
     "output_type": "execute_result"
    }
   ],
   "source": [
    "all_data.dtypes\n",
    "#can only check outliers for numeric variables"
   ]
  },
  {
   "cell_type": "code",
   "execution_count": 63,
   "metadata": {},
   "outputs": [
    {
     "data": {
      "text/plain": [
       "<matplotlib.axes._subplots.AxesSubplot at 0x1bf56903700>"
      ]
     },
     "execution_count": 63,
     "metadata": {},
     "output_type": "execute_result"
    },
    {
     "data": {
      "image/png": "[encoded data removed]",
      "text/plain": [
       "<Figure size 432x288 with 1 Axes>"
      ]
     },
     "metadata": {
      "needs_background": "light"
     },
     "output_type": "display_data"
    }
   ],
   "source": [
    "#age column\n",
    "sns.boxplot(x = all_data['age'])\n",
    "#one outlier but not significant enough to impact the data"
   ]
  },
  {
   "cell_type": "code",
   "execution_count": 64,
   "metadata": {
    "scrolled": true
   },
   "outputs": [
    {
     "data": {
      "text/plain": [
       "<matplotlib.axes._subplots.AxesSubplot at 0x1bf56b237f0>"
      ]
     },
     "execution_count": 64,
     "metadata": {},
     "output_type": "execute_result"
    },
    {
     "data": {
      "image/png": "[encoded data removed]",
      "text/plain": [
       "<Figure size 432x288 with 1 Axes>"
      ]
     },
     "metadata": {
      "needs_background": "light"
     },
     "output_type": "display_data"
    }
   ],
   "source": [
    "#Medu column\n",
    "sns.boxplot(x = all_data['Medu'])\n",
    "#no outliers"
   ]
  },
  {
   "cell_type": "code",
   "execution_count": 65,
   "metadata": {},
   "outputs": [
    {
     "data": {
      "text/plain": [
       "<matplotlib.axes._subplots.AxesSubplot at 0x1bf56b82700>"
      ]
     },
     "execution_count": 65,
     "metadata": {},
     "output_type": "execute_result"
    },
    {
     "data": {
      "image/png": "[encoded data removed]",
      "text/plain": [
       "<Figure size 432x288 with 1 Axes>"
      ]
     },
     "metadata": {
      "needs_background": "light"
     },
     "output_type": "display_data"
    }
   ],
   "source": [
    "#Fedu column\n",
    "sns.boxplot(x = all_data['Fedu'])\n",
    "#no outlier"
   ]
  },
  {
   "cell_type": "code",
   "execution_count": 66,
   "metadata": {},
   "outputs": [
    {
     "data": {
      "text/plain": [
       "<matplotlib.axes._subplots.AxesSubplot at 0x1bf56bdeee0>"
      ]
     },
     "execution_count": 66,
     "metadata": {},
     "output_type": "execute_result"
    },
    {
     "data": {
      "image/png": "[encoded data removed]",
      "text/plain": [
       "<Figure size 432x288 with 1 Axes>"
      ]
     },
     "metadata": {
      "needs_background": "light"
     },
     "output_type": "display_data"
    }
   ],
   "source": [
    "#traveltime column\n",
    "sns.boxplot(x = all_data['traveltime'])\n",
    "#one outlier but not significant enough to impact the data"
   ]
  },
  {
   "cell_type": "code",
   "execution_count": 67,
   "metadata": {},
   "outputs": [
    {
     "data": {
      "text/plain": [
       "<matplotlib.axes._subplots.AxesSubplot at 0x1bf56c2dfa0>"
      ]
     },
     "execution_count": 67,
     "metadata": {},
     "output_type": "execute_result"
    },
    {
     "data": {
      "image/png": "[encoded data removed]",
      "text/plain": [
       "<Figure size 432x288 with 1 Axes>"
      ]
     },
     "metadata": {
      "needs_background": "light"
     },
     "output_type": "display_data"
    }
   ],
   "source": [
    "#studytime\n",
    "sns.boxplot(x = all_data['studytime'])\n",
    "#one outlier but not significant enough to impact the data"
   ]
  },
  {
   "cell_type": "code",
   "execution_count": 68,
   "metadata": {},
   "outputs": [
    {
     "data": {
      "text/plain": [
       "<matplotlib.axes._subplots.AxesSubplot at 0x1bf56c92190>"
      ]
     },
     "execution_count": 68,
     "metadata": {},
     "output_type": "execute_result"
    },
    {
     "data": {
      "image/png": "[encoded data removed]",
      "text/plain": [
       "<Figure size 432x288 with 1 Axes>"
      ]
     },
     "metadata": {
      "needs_background": "light"
     },
     "output_type": "display_data"
    }
   ],
   "source": [
    "#failures column\n",
    "sns.boxplot(x = all_data['failures'])\n",
    "#no need to remove outliers because they are classifiers for the number of past class failures. the categories range from 1-4"
   ]
  },
  {
   "cell_type": "code",
   "execution_count": 69,
   "metadata": {},
   "outputs": [
    {
     "data": {
      "text/plain": [
       "<matplotlib.axes._subplots.AxesSubplot at 0x1bf56cd6eb0>"
      ]
     },
     "execution_count": 69,
     "metadata": {},
     "output_type": "execute_result"
    },
    {
     "data": {
      "image/png": "[encoded data removed]",
      "text/plain": [
       "<Figure size 432x288 with 1 Axes>"
      ]
     },
     "metadata": {
      "needs_background": "light"
     },
     "output_type": "display_data"
    }
   ],
   "source": [
    "#famrel column\n",
    "sns.boxplot(x = all_data['famrel'])\n",
    "#two outliers but no need for removel because famrel classifies the quality of family relationships\n",
    "#ranges from 1-5"
   ]
  },
  {
   "cell_type": "code",
   "execution_count": 70,
   "metadata": {},
   "outputs": [
    {
     "data": {
      "text/plain": [
       "<matplotlib.axes._subplots.AxesSubplot at 0x1bf56d3e5b0>"
      ]
     },
     "execution_count": 70,
     "metadata": {},
     "output_type": "execute_result"
    },
    {
     "data": {
      "image/png": "[encoded data removed]",
      "text/plain": [
       "<Figure size 432x288 with 1 Axes>"
      ]
     },
     "metadata": {
      "needs_background": "light"
     },
     "output_type": "display_data"
    }
   ],
   "source": [
    "#freetime column\n",
    "sns.boxplot(x = all_data['freetime'])\n",
    "#one outlier but no need for removal because it is a categorical value that has a scale from 1 to 5"
   ]
  },
  {
   "cell_type": "code",
   "execution_count": 71,
   "metadata": {},
   "outputs": [
    {
     "data": {
      "text/plain": [
       "<matplotlib.axes._subplots.AxesSubplot at 0x1bf57d55580>"
      ]
     },
     "execution_count": 71,
     "metadata": {},
     "output_type": "execute_result"
    },
    {
     "data": {
      "image/png": "[encoded data removed]",
      "text/plain": [
       "<Figure size 432x288 with 1 Axes>"
      ]
     },
     "metadata": {
      "needs_background": "light"
     },
     "output_type": "display_data"
    }
   ],
   "source": [
    "#goout column\n",
    "sns.boxplot(x = all_data['goout'])\n",
    "#no outliers"
   ]
  },
  {
   "cell_type": "code",
   "execution_count": 72,
   "metadata": {},
   "outputs": [
    {
     "data": {
      "text/plain": [
       "<matplotlib.axes._subplots.AxesSubplot at 0x1bf5685e910>"
      ]
     },
     "execution_count": 72,
     "metadata": {},
     "output_type": "execute_result"
    },
    {
     "data": {
      "image/png": "[encoded data removed]",
      "text/plain": [
       "<Figure size 432x288 with 1 Axes>"
      ]
     },
     "metadata": {
      "needs_background": "light"
     },
     "output_type": "display_data"
    }
   ],
   "source": [
    "#Dalc column\n",
    "sns.boxplot(x = all_data['Dalc'])\n",
    "#two outliers but no need for removal because they are numeric categorial values that has a scale from 1 to 5"
   ]
  },
  {
   "cell_type": "code",
   "execution_count": 73,
   "metadata": {},
   "outputs": [
    {
     "data": {
      "text/plain": [
       "<matplotlib.axes._subplots.AxesSubplot at 0x1bf56865520>"
      ]
     },
     "execution_count": 73,
     "metadata": {},
     "output_type": "execute_result"
    },
    {
     "data": {
      "image/png": "[encoded data removed]",
      "text/plain": [
       "<Figure size 432x288 with 1 Axes>"
      ]
     },
     "metadata": {
      "needs_background": "light"
     },
     "output_type": "display_data"
    }
   ],
   "source": [
    "#Walc column\n",
    "sns.boxplot(x = all_data['Walc'])\n",
    "#no outliers"
   ]
  },
  {
   "cell_type": "code",
   "execution_count": 74,
   "metadata": {},
   "outputs": [
    {
     "data": {
      "text/plain": [
       "<matplotlib.axes._subplots.AxesSubplot at 0x1bf54d88a60>"
      ]
     },
     "execution_count": 74,
     "metadata": {},
     "output_type": "execute_result"
    },
    {
     "data": {
      "image/png": "[encoded data removed]",
      "text/plain": [
       "<Figure size 432x288 with 1 Axes>"
      ]
     },
     "metadata": {
      "needs_background": "light"
     },
     "output_type": "display_data"
    }
   ],
   "source": [
    "#health column\n",
    "sns.boxplot(x = all_data['health'])\n",
    "#no outliers"
   ]
  },
  {
   "cell_type": "code",
   "execution_count": 75,
   "metadata": {},
   "outputs": [
    {
     "data": {
      "text/plain": [
       "<matplotlib.axes._subplots.AxesSubplot at 0x1bf57e760d0>"
      ]
     },
     "execution_count": 75,
     "metadata": {},
     "output_type": "execute_result"
    },
    {
     "data": {
      "image/png": "[encoded data removed]",
      "text/plain": [
       "<Figure size 432x288 with 1 Axes>"
      ]
     },
     "metadata": {
      "needs_background": "light"
     },
     "output_type": "display_data"
    }
   ],
   "source": [
    "#absences column\n",
    "sns.boxplot(x = all_data['absences'])\n",
    "#outliers but not significant enough to impact the data"
   ]
  },
  {
   "cell_type": "code",
   "execution_count": 76,
   "metadata": {},
   "outputs": [
    {
     "data": {
      "text/plain": [
       "<matplotlib.axes._subplots.AxesSubplot at 0x1bf57ecbf10>"
      ]
     },
     "execution_count": 76,
     "metadata": {},
     "output_type": "execute_result"
    },
    {
     "data": {
      "image/png": "[encoded data removed]",
      "text/plain": [
       "<Figure size 432x288 with 1 Axes>"
      ]
     },
     "metadata": {
      "needs_background": "light"
     },
     "output_type": "display_data"
    }
   ],
   "source": [
    "#G1 column\n",
    "sns.boxplot(x = all_data['G1'])\n",
    "#one outlier but not significant enough to impact the data"
   ]
  },
  {
   "cell_type": "code",
   "execution_count": 77,
   "metadata": {},
   "outputs": [
    {
     "data": {
      "text/plain": [
       "<matplotlib.axes._subplots.AxesSubplot at 0x1bf57f27550>"
      ]
     },
     "execution_count": 77,
     "metadata": {},
     "output_type": "execute_result"
    },
    {
     "data": {
      "image/png": "[encoded data removed]",
      "text/plain": [
       "<Figure size 432x288 with 1 Axes>"
      ]
     },
     "metadata": {
      "needs_background": "light"
     },
     "output_type": "display_data"
    }
   ],
   "source": [
    "#G2 column\n",
    "sns.boxplot(x = all_data['G2'])\n",
    "#one outlier but not significant enough to impact the data"
   ]
  },
  {
   "cell_type": "code",
   "execution_count": 78,
   "metadata": {
    "scrolled": true
   },
   "outputs": [
    {
     "data": {
      "text/plain": [
       "<matplotlib.axes._subplots.AxesSubplot at 0x1bf57f832e0>"
      ]
     },
     "execution_count": 78,
     "metadata": {},
     "output_type": "execute_result"
    },
    {
     "data": {
      "image/png": "[encoded data removed]",
      "text/plain": [
       "<Figure size 432x288 with 1 Axes>"
      ]
     },
     "metadata": {
      "needs_background": "light"
     },
     "output_type": "display_data"
    }
   ],
   "source": [
    "#G3 column\n",
    "sns.boxplot(x = all_data['G3'])\n",
    "#outliers but not significant enough to impact the data"
   ]
  },
  {
   "cell_type": "markdown",
   "metadata": {},
   "source": [
    "# Determining and Removing Predictors"
   ]
  },
  {
   "cell_type": "code",
   "execution_count": 79,
   "metadata": {},
   "outputs": [
    {
     "data": {
      "text/plain": [
       "age           1.239975\n",
       "Medu          1.124907\n",
       "Fedu          1.099938\n",
       "traveltime    0.731727\n",
       "studytime     0.834353\n",
       "failures      0.656142\n",
       "famrel        0.933401\n",
       "freetime      1.031507\n",
       "goout         1.152575\n",
       "Dalc          0.911714\n",
       "Walc          1.285105\n",
       "health        1.424703\n",
       "absences      6.210017\n",
       "G1            2.983394\n",
       "G2            3.285071\n",
       "G3            3.864796\n",
       "dtype: float64"
      ]
     },
     "execution_count": 79,
     "metadata": {},
     "output_type": "execute_result"
    }
   ],
   "source": [
    "all_data.std()"
   ]
  },
  {
   "cell_type": "code",
   "execution_count": 80,
   "metadata": {},
   "outputs": [
    {
     "name": "stdout",
     "output_type": "stream",
     "text": [
      "0    0.910743\n",
      "Name: (G2, G3), dtype: float64\n",
      "0    0.910743\n",
      "Name: (G3, G2), dtype: float64\n",
      "0    0.858739\n",
      "Name: (G2, G1), dtype: float64\n",
      "0    0.858739\n",
      "Name: (G1, G2), dtype: float64\n",
      "0    0.809142\n",
      "Name: (G3, G1), dtype: float64\n",
      "0    0.809142\n",
      "Name: (G1, G3), dtype: float64\n",
      "0    0.642063\n",
      "Name: (Fedu, Medu), dtype: float64\n",
      "0    0.642063\n",
      "Name: (Medu, Fedu), dtype: float64\n",
      "0    0.627814\n",
      "Name: (Walc, Dalc), dtype: float64\n",
      "0    0.627814\n",
      "Name: (Dalc, Walc), dtype: float64\n",
      "0    0.399794\n",
      "Name: (Walc, goout), dtype: float64\n",
      "0    0.399794\n",
      "Name: (goout, Walc), dtype: float64\n",
      "0    0.383145\n",
      "Name: (failures, G3), dtype: float64\n",
      "0    0.383145\n",
      "Name: (G3, failures), dtype: float64\n",
      "0    0.377172\n",
      "Name: (G2, failures), dtype: float64\n",
      "0    0.377172\n",
      "Name: (failures, G2), dtype: float64\n",
      "0    0.374175\n",
      "Name: (G1, failures), dtype: float64\n",
      "0    0.374175\n",
      "Name: (failures, G1), dtype: float64\n",
      "0    0.323556\n",
      "Name: (freetime, goout), dtype: float64\n",
      "0    0.323556\n",
      "Name: (goout, freetime), dtype: float64\n",
      "0    0.282364\n",
      "Name: (failures, age), dtype: float64\n",
      "0    0.282364\n",
      "Name: (age, failures), dtype: float64\n",
      "0    0.253135\n",
      "Name: (goout, Dalc), dtype: float64\n",
      "0    0.253135\n",
      "Name: (Dalc, goout), dtype: float64\n",
      "0    0.238181\n",
      "Name: (Medu, traveltime), dtype: float64\n",
      "0    0.238181\n",
      "Name: (traveltime, Medu), dtype: float64\n",
      "0    0.229073\n",
      "Name: (Walc, studytime), dtype: float64\n",
      "0    0.229073\n",
      "Name: (studytime, Walc), dtype: float64\n",
      "0    0.226101\n",
      "Name: (G1, Medu), dtype: float64\n",
      "0    0.226101\n",
      "Name: (Medu, G1), dtype: float64\n",
      "0    0.224662\n",
      "Name: (G2, Medu), dtype: float64\n",
      "0    0.224662\n",
      "Name: (Medu, G2), dtype: float64\n",
      "0    0.211314\n",
      "Name: (G1, studytime), dtype: float64\n",
      "0    0.211314\n",
      "Name: (studytime, G1), dtype: float64\n",
      "0    0.201472\n",
      "Name: (G3, Medu), dtype: float64\n",
      "0    0.201472\n",
      "Name: (Medu, G3), dtype: float64\n",
      "0    0.196328\n",
      "Name: (Fedu, traveltime), dtype: float64\n",
      "0    0.196328\n",
      "Name: (traveltime, Fedu), dtype: float64\n",
      "0    0.195898\n",
      "Name: (Fedu, G1), dtype: float64\n",
      "0    0.195898\n",
      "Name: (G1, Fedu), dtype: float64\n",
      "0    0.19139\n",
      "Name: (Fedu, failures), dtype: float64\n",
      "0    0.19139\n",
      "Name: (failures, Fedu), dtype: float64\n",
      "0    0.187769\n",
      "Name: (Medu, failures), dtype: float64\n",
      "0    0.187769\n",
      "Name: (failures, Medu), dtype: float64\n",
      "0    0.183167\n",
      "Name: (studytime, G2), dtype: float64\n",
      "0    0.183167\n",
      "Name: (G2, studytime), dtype: float64\n",
      "0    0.182634\n",
      "Name: (Fedu, G2), dtype: float64\n",
      "0    0.182634\n",
      "Name: (G2, Fedu), dtype: float64\n",
      "0    0.161629\n",
      "Name: (studytime, G3), dtype: float64\n",
      "0    0.161629\n",
      "Name: (G3, studytime), dtype: float64\n",
      "0    0.159796\n",
      "Name: (G3, Fedu), dtype: float64\n",
      "0    0.159796\n",
      "Name: (Fedu, G3), dtype: float64\n",
      "0    0.159665\n",
      "Name: (studytime, Dalc), dtype: float64\n",
      "0    0.159665\n",
      "Name: (Dalc, studytime), dtype: float64\n",
      "0    0.153196\n",
      "Name: (age, absences), dtype: float64\n",
      "0    0.153196\n",
      "Name: (absences, age), dtype: float64\n",
      "0    0.152024\n",
      "Name: (failures, studytime), dtype: float64\n",
      "0    0.152024\n",
      "Name: (studytime, failures), dtype: float64\n",
      "0    0.150943\n",
      "Name: (G1, Dalc), dtype: float64\n",
      "0    0.150943\n",
      "Name: (Dalc, G1), dtype: float64\n",
      "0    0.144979\n",
      "Name: (Dalc, freetime), dtype: float64\n",
      "0    0.144979\n",
      "Name: (freetime, Dalc), dtype: float64\n",
      "0    0.142401\n",
      "Name: (Walc, G1), dtype: float64\n",
      "0    0.142401\n",
      "Name: (G1, Walc), dtype: float64\n",
      "0    0.140163\n",
      "Name: (G2, traveltime), dtype: float64\n",
      "0    0.140163\n",
      "Name: (traveltime, G2), dtype: float64\n",
      "0    0.139703\n",
      "Name: (absences, Walc), dtype: float64\n",
      "0    0.139703\n",
      "Name: (Walc, absences), dtype: float64\n",
      "0    0.138521\n",
      "Name: (age, Fedu), dtype: float64\n",
      "0    0.138521\n",
      "Name: (Fedu, age), dtype: float64\n",
      "0    0.136901\n",
      "Name: (famrel, freetime), dtype: float64\n",
      "0    0.136901\n",
      "Name: (freetime, famrel), dtype: float64\n",
      "0    0.133453\n",
      "Name: (age, Dalc), dtype: float64\n",
      "0    0.133453\n",
      "Name: (Dalc, age), dtype: float64\n",
      "0    0.132867\n",
      "Name: (absences, Dalc), dtype: float64\n",
      "0    0.132867\n",
      "Name: (Dalc, absences), dtype: float64\n",
      "0    0.131576\n",
      "Name: (G2, Dalc), dtype: float64\n",
      "0    0.131576\n",
      "Name: (Dalc, G2), dtype: float64\n",
      "0    0.130377\n",
      "Name: (Walc, freetime), dtype: float64\n",
      "0    0.130377\n",
      "Name: (freetime, Walc), dtype: float64\n",
      "0    0.130196\n",
      "Name: (Medu, age), dtype: float64\n",
      "0    0.130196\n",
      "Name: (age, Medu), dtype: float64\n",
      "0    0.129642\n",
      "Name: (G3, Dalc), dtype: float64\n",
      "0    0.129642\n",
      "Name: (Dalc, G3), dtype: float64\n",
      "0    0.128114\n",
      "Name: (Walc, G2), dtype: float64\n",
      "0    0.128114\n",
      "Name: (G2, Walc), dtype: float64\n",
      "0    0.125282\n",
      "Name: (G3, age), dtype: float64\n",
      "0    0.125282\n",
      "Name: (age, G3), dtype: float64\n",
      "0    0.124121\n",
      "Name: (age, G1), dtype: float64\n",
      "0    0.124121\n",
      "Name: (G1, age), dtype: float64\n",
      "0    0.121053\n",
      "Name: (G1, traveltime), dtype: float64\n",
      "0    0.121053\n",
      "Name: (traveltime, G1), dtype: float64\n",
      "0    0.119475\n",
      "Name: (age, G2), dtype: float64\n",
      "0    0.119475\n",
      "Name: (G2, age), dtype: float64\n",
      "0    0.11851\n",
      "Name: (goout, age), dtype: float64\n",
      "0    0.11851\n",
      "Name: (age, goout), dtype: float64\n",
      "0    0.116336\n",
      "Name: (Dalc, failures), dtype: float64\n",
      "0    0.116336\n",
      "Name: (failures, Dalc), dtype: float64\n",
      "0    0.11574\n",
      "Name: (Walc, G3), dtype: float64\n",
      "0    0.11574\n",
      "Name: (G3, Walc), dtype: float64\n",
      "0    0.109423\n",
      "Name: (traveltime, Dalc), dtype: float64\n",
      "0    0.109423\n",
      "Name: (Dalc, traveltime), dtype: float64\n",
      "0    0.108411\n",
      "Name: (goout, G2), dtype: float64\n",
      "0    0.108411\n",
      "Name: (G2, goout), dtype: float64\n",
      "0    0.107432\n",
      "Name: (Walc, failures), dtype: float64\n",
      "0    0.107432\n",
      "Name: (failures, Walc), dtype: float64\n",
      "0    0.106669\n",
      "Name: (Walc, health), dtype: float64\n",
      "0    0.106669\n",
      "Name: (health, Walc), dtype: float64\n",
      "0    0.104101\n",
      "Name: (famrel, health), dtype: float64\n",
      "0    0.104101\n",
      "Name: (health, famrel), dtype: float64\n",
      "0    0.102679\n",
      "Name: (freetime, failures), dtype: float64\n",
      "0    0.102679\n",
      "Name: (failures, freetime), dtype: float64\n",
      "0    0.102627\n",
      "Name: (traveltime, G3), dtype: float64\n",
      "0    0.102627\n",
      "Name: (G3, traveltime), dtype: float64\n",
      "0    0.101163\n",
      "Name: (goout, G1), dtype: float64\n",
      "0    0.101163\n",
      "Name: (G1, goout), dtype: float64\n",
      "0    0.100663\n",
      "Name: (famrel, Walc), dtype: float64\n",
      "0    0.100663\n",
      "Name: (Walc, famrel), dtype: float64\n",
      "0    0.099998\n",
      "Name: (failures, absences), dtype: float64\n",
      "0    0.099998\n",
      "Name: (absences, failures), dtype: float64\n",
      "0    0.098291\n",
      "Name: (Walc, age), dtype: float64\n",
      "0    0.098291\n",
      "Name: (age, Walc), dtype: float64\n",
      "0    0.097877\n",
      "Name: (G3, goout), dtype: float64\n",
      "0    0.097877\n",
      "Name: (goout, G3), dtype: float64\n",
      "0    0.094429\n",
      "Name: (studytime, freetime), dtype: float64\n",
      "0    0.094429\n",
      "Name: (freetime, studytime), dtype: float64\n",
      "0    0.092425\n",
      "Name: (G1, absences), dtype: float64\n",
      "0    0.092425\n",
      "Name: (absences, G1), dtype: float64\n",
      "0    0.090616\n",
      "Name: (studytime, Medu), dtype: float64\n",
      "0    0.090616\n",
      "Name: (Medu, studytime), dtype: float64\n",
      "0    0.089332\n",
      "Name: (G2, absences), dtype: float64\n",
      "0    0.089332\n",
      "Name: (absences, G2), dtype: float64\n",
      "0    0.088001\n",
      "Name: (health, G2), dtype: float64\n",
      "0    0.088001\n",
      "Name: (G2, health), dtype: float64\n",
      "0    0.087177\n",
      "Name: (traveltime, failures), dtype: float64\n",
      "0    0.087177\n",
      "Name: (failures, traveltime), dtype: float64\n",
      "0    0.084292\n",
      "Name: (traveltime, Walc), dtype: float64\n",
      "0    0.084292\n",
      "Name: (Walc, traveltime), dtype: float64\n",
      "0    0.081517\n",
      "Name: (health, freetime), dtype: float64\n",
      "0    0.081517\n",
      "Name: (freetime, health), dtype: float64\n",
      "0    0.081328\n",
      "Name: (traveltime, studytime), dtype: float64\n",
      "0    0.081328\n",
      "Name: (studytime, traveltime), dtype: float64\n",
      "0    0.080619\n",
      "Name: (goout, famrel), dtype: float64\n",
      "0    0.080619\n",
      "Name: (famrel, goout), dtype: float64\n",
      "0    0.080079\n",
      "Name: (G3, health), dtype: float64\n",
      "0    0.080079\n",
      "Name: (health, G3), dtype: float64\n",
      "0    0.076483\n",
      "Name: (Dalc, famrel), dtype: float64\n",
      "0    0.076483\n",
      "Name: (famrel, Dalc), dtype: float64\n",
      "0    0.075594\n",
      "Name: (studytime, absences), dtype: float64\n",
      "0    0.075594\n",
      "Name: (absences, studytime), dtype: float64\n",
      "0    0.074683\n",
      "Name: (goout, failures), dtype: float64\n",
      "0    0.074683\n",
      "Name: (failures, goout), dtype: float64\n",
      "0    0.072941\n",
      "Name: (goout, studytime), dtype: float64\n",
      "0    0.072941\n",
      "Name: (studytime, goout), dtype: float64\n",
      "0    0.068952\n",
      "Name: (freetime, G2), dtype: float64\n",
      "0    0.068952\n",
      "Name: (G2, freetime), dtype: float64\n",
      "0    0.065515\n",
      "Name: (health, Dalc), dtype: float64\n",
      "0    0.065515\n",
      "Name: (Dalc, health), dtype: float64\n",
      "0    0.06489\n",
      "Name: (G3, freetime), dtype: float64\n",
      "0    0.06489\n",
      "Name: (freetime, G3), dtype: float64\n",
      "0    0.063044\n",
      "Name: (studytime, health), dtype: float64\n",
      "0    0.063044\n",
      "Name: (health, studytime), dtype: float64\n",
      "0    0.062171\n",
      "Name: (absences, famrel), dtype: float64\n",
      "0    0.062171\n",
      "Name: (famrel, absences), dtype: float64\n",
      "0    0.060478\n",
      "Name: (G1, health), dtype: float64\n",
      "0    0.060478\n",
      "Name: (health, G1), dtype: float64\n",
      "0    0.059708\n",
      "Name: (absences, Medu), dtype: float64\n",
      "0    0.059708\n",
      "Name: (Medu, absences), dtype: float64\n",
      "0    0.056142\n",
      "Name: (absences, goout), dtype: float64\n",
      "0    0.056142\n",
      "Name: (goout, absences), dtype: float64\n",
      "0    0.054461\n",
      "Name: (famrel, G3), dtype: float64\n",
      "0    0.054461\n",
      "Name: (G3, famrel), dtype: float64\n",
      "0    0.053676\n",
      "Name: (failures, famrel), dtype: float64\n",
      "0    0.053676\n",
      "Name: (famrel, failures), dtype: float64\n",
      "0    0.051985\n",
      "Name: (G1, freetime), dtype: float64\n",
      "0    0.051985\n",
      "Name: (freetime, G1), dtype: float64\n",
      "0    0.04974\n",
      "Name: (goout, traveltime), dtype: float64\n",
      "0    0.04974\n",
      "Name: (traveltime, goout), dtype: float64\n",
      "0    0.049216\n",
      "Name: (age, traveltime), dtype: float64\n",
      "0    0.049216\n",
      "Name: (traveltime, age), dtype: float64\n",
      "0    0.048311\n",
      "Name: (failures, health), dtype: float64\n",
      "0    0.048311\n",
      "Name: (health, failures), dtype: float64\n",
      "0    0.045671\n",
      "Name: (absences, G3), dtype: float64\n",
      "0    0.045671\n",
      "Name: (G3, absences), dtype: float64\n",
      "0    0.042054\n",
      "Name: (G2, famrel), dtype: float64\n",
      "0    0.042054\n",
      "Name: (famrel, G2), dtype: float64\n",
      "0    0.040829\n",
      "Name: (absences, Fedu), dtype: float64\n",
      "0    0.040829\n",
      "Name: (Fedu, absences), dtype: float64\n",
      "0    0.036947\n",
      "Name: (famrel, G1), dtype: float64\n",
      "0    0.036947\n",
      "Name: (G1, famrel), dtype: float64\n",
      "0    0.034288\n",
      "Name: (health, Fedu), dtype: float64\n",
      "0    0.034288\n",
      "Name: (Fedu, health), dtype: float64\n",
      "0    0.033458\n",
      "Name: (Fedu, studytime), dtype: float64\n",
      "0    0.033458\n",
      "Name: (studytime, Fedu), dtype: float64\n",
      "0    0.032079\n",
      "Name: (freetime, absences), dtype: float64\n",
      "0    0.032079\n",
      "Name: (absences, freetime), dtype: float64\n",
      "0    0.030075\n",
      "Name: (Fedu, goout), dtype: float64\n",
      "0    0.030075\n",
      "Name: (goout, Fedu), dtype: float64\n",
      "0    0.029331\n",
      "Name: (Walc, Medu), dtype: float64\n",
      "0    0.029331\n",
      "Name: (Medu, Walc), dtype: float64\n",
      "0    0.029129\n",
      "Name: (health, age), dtype: float64\n",
      "0    0.029129\n",
      "Name: (age, health), dtype: float64\n",
      "0    0.029002\n",
      "Name: (traveltime, health), dtype: float64\n",
      "0    0.029002\n",
      "Name: (health, traveltime), dtype: float64\n",
      "0    0.027479\n",
      "Name: (absences, health), dtype: float64\n",
      "0    0.027479\n",
      "Name: (health, absences), dtype: float64\n",
      "0    0.025614\n",
      "Name: (goout, Medu), dtype: float64\n",
      "0    0.025614\n",
      "Name: (Medu, goout), dtype: float64\n",
      "0    0.022669\n",
      "Name: (traveltime, absences), dtype: float64\n",
      "0    0.022669\n",
      "Name: (absences, traveltime), dtype: float64\n",
      "0    0.019524\n",
      "Name: (Fedu, Walc), dtype: float64\n",
      "0    0.019524\n",
      "Name: (Walc, Fedu), dtype: float64\n",
      "0    0.015004\n",
      "Name: (famrel, Medu), dtype: float64\n",
      "0    0.015004\n",
      "Name: (Medu, famrel), dtype: float64\n",
      "0    0.013736\n",
      "Name: (health, goout), dtype: float64\n",
      "0    0.013736\n",
      "Name: (goout, health), dtype: float64\n",
      "0    0.013254\n",
      "Name: (health, Medu), dtype: float64\n",
      "0    0.013254\n",
      "Name: (Medu, health), dtype: float64\n",
      "0    0.013066\n",
      "Name: (famrel, Fedu), dtype: float64\n",
      "0    0.013066\n",
      "Name: (Fedu, famrel), dtype: float64\n",
      "0    0.012578\n",
      "Name: (famrel, traveltime), dtype: float64\n",
      "0    0.012578\n",
      "Name: (traveltime, famrel), dtype: float64\n",
      "0    0.012324\n",
      "Name: (famrel, studytime), dtype: float64\n",
      "0    0.012324\n",
      "Name: (studytime, famrel), dtype: float64\n",
      "0    0.00787\n",
      "Name: (age, studytime), dtype: float64\n",
      "0    0.00787\n",
      "Name: (studytime, age), dtype: float64\n",
      "0    0.007403\n",
      "Name: (traveltime, freetime), dtype: float64\n",
      "0    0.007403\n",
      "Name: (freetime, traveltime), dtype: float64\n",
      "0    0.007162\n",
      "Name: (age, famrel), dtype: float64\n",
      "0    0.007162\n",
      "Name: (famrel, age), dtype: float64\n",
      "0    0.002645\n",
      "Name: (freetime, age), dtype: float64\n",
      "0    0.002645\n",
      "Name: (age, freetime), dtype: float64\n",
      "0    0.002142\n",
      "Name: (Fedu, freetime), dtype: float64\n",
      "0    0.002142\n",
      "Name: (freetime, Fedu), dtype: float64\n",
      "0    0.001515\n",
      "Name: (Dalc, Medu), dtype: float64\n",
      "0    0.001515\n",
      "Name: (Medu, Dalc), dtype: float64\n",
      "0    0.001054\n",
      "Name: (Medu, freetime), dtype: float64\n",
      "0    0.001054\n",
      "Name: (freetime, Medu), dtype: float64\n",
      "0    0.000165\n",
      "Name: (Fedu, Dalc), dtype: float64\n",
      "0    0.000165\n",
      "Name: (Dalc, Fedu), dtype: float64\n"
     ]
    }
   ],
   "source": [
    "#checking correlations\n",
    "c = all_data.corr().abs()\n",
    "s = c.unstack()\n",
    "so = s.sort_values(kind=\"quicksort\", ascending=False)\n",
    "for idx, row in pd.DataFrame(so).iterrows():\n",
    "    if row[0] < 1:\n",
    "        print(row)"
   ]
  },
  {
   "cell_type": "code",
   "execution_count": 81,
   "metadata": {},
   "outputs": [],
   "source": [
    "#deleting predictors\n",
    "del all_data['G1']\n",
    "del all_data['G2']\n",
    "del all_data['Fedu']\n",
    "del all_data['Walc']\n",
    "\n",
    "#G1 and G2 will be deleted because they are highly correlated with G3. G3 was kept because it is the calculation of the\n",
    "#final grade, while G1 and G2 are just the first and second period, respectively\n",
    "\n",
    "#Fedu and Walc were deleted because they are moderately highly coreelated with columns such as Medu and Dalc"
   ]
  },
  {
   "cell_type": "code",
   "execution_count": 82,
   "metadata": {},
   "outputs": [
    {
     "data": {
      "text/plain": [
       "Index(['school', 'sex', 'age', 'address', 'famsize', 'Pstatus', 'Medu', 'Mjob',\n",
       "       'Fjob', 'reason', 'guardian', 'traveltime', 'studytime', 'failures',\n",
       "       'schoolsup', 'famsup', 'paid', 'activities', 'nursery', 'higher',\n",
       "       'internet', 'romantic', 'famrel', 'freetime', 'goout', 'Dalc', 'health',\n",
       "       'absences', 'G3'],\n",
       "      dtype='object')"
      ]
     },
     "execution_count": 82,
     "metadata": {},
     "output_type": "execute_result"
    }
   ],
   "source": [
    "#checking if deleted properly\n",
    "all_data.columns"
   ]
  },
  {
   "cell_type": "markdown",
   "metadata": {},
   "source": [
    "# Copy Data"
   ]
  },
  {
   "cell_type": "code",
   "execution_count": 83,
   "metadata": {},
   "outputs": [
    {
     "data": {
      "text/html": [
       "<div>\n",
       "<style scoped>\n",
       "    .dataframe tbody tr th:only-of-type {\n",
       "        vertical-align: middle;\n",
       "    }\n",
       "\n",
       "    .dataframe tbody tr th {\n",
       "        vertical-align: top;\n",
       "    }\n",
       "\n",
       "    .dataframe thead th {\n",
       "        text-align: right;\n",
       "    }\n",
       "</style>\n",
       "<table border=\"1\" class=\"dataframe\">\n",
       "  <thead>\n",
       "    <tr style=\"text-align: right;\">\n",
       "      <th></th>\n",
       "      <th>school</th>\n",
       "      <th>sex</th>\n",
       "      <th>age</th>\n",
       "      <th>address</th>\n",
       "      <th>famsize</th>\n",
       "      <th>Pstatus</th>\n",
       "      <th>Medu</th>\n",
       "      <th>Mjob</th>\n",
       "      <th>Fjob</th>\n",
       "      <th>reason</th>\n",
       "      <th>...</th>\n",
       "      <th>higher</th>\n",
       "      <th>internet</th>\n",
       "      <th>romantic</th>\n",
       "      <th>famrel</th>\n",
       "      <th>freetime</th>\n",
       "      <th>goout</th>\n",
       "      <th>Dalc</th>\n",
       "      <th>health</th>\n",
       "      <th>absences</th>\n",
       "      <th>G3</th>\n",
       "    </tr>\n",
       "  </thead>\n",
       "  <tbody>\n",
       "    <tr>\n",
       "      <th>0</th>\n",
       "      <td>GP</td>\n",
       "      <td>F</td>\n",
       "      <td>18</td>\n",
       "      <td>U</td>\n",
       "      <td>GT3</td>\n",
       "      <td>A</td>\n",
       "      <td>4</td>\n",
       "      <td>at_home</td>\n",
       "      <td>teacher</td>\n",
       "      <td>course</td>\n",
       "      <td>...</td>\n",
       "      <td>yes</td>\n",
       "      <td>no</td>\n",
       "      <td>no</td>\n",
       "      <td>4</td>\n",
       "      <td>3</td>\n",
       "      <td>4</td>\n",
       "      <td>1</td>\n",
       "      <td>3</td>\n",
       "      <td>6</td>\n",
       "      <td>6</td>\n",
       "    </tr>\n",
       "    <tr>\n",
       "      <th>1</th>\n",
       "      <td>GP</td>\n",
       "      <td>F</td>\n",
       "      <td>17</td>\n",
       "      <td>U</td>\n",
       "      <td>GT3</td>\n",
       "      <td>T</td>\n",
       "      <td>1</td>\n",
       "      <td>at_home</td>\n",
       "      <td>other</td>\n",
       "      <td>course</td>\n",
       "      <td>...</td>\n",
       "      <td>yes</td>\n",
       "      <td>yes</td>\n",
       "      <td>no</td>\n",
       "      <td>5</td>\n",
       "      <td>3</td>\n",
       "      <td>3</td>\n",
       "      <td>1</td>\n",
       "      <td>3</td>\n",
       "      <td>4</td>\n",
       "      <td>6</td>\n",
       "    </tr>\n",
       "    <tr>\n",
       "      <th>2</th>\n",
       "      <td>GP</td>\n",
       "      <td>F</td>\n",
       "      <td>15</td>\n",
       "      <td>U</td>\n",
       "      <td>LE3</td>\n",
       "      <td>T</td>\n",
       "      <td>1</td>\n",
       "      <td>at_home</td>\n",
       "      <td>other</td>\n",
       "      <td>other</td>\n",
       "      <td>...</td>\n",
       "      <td>yes</td>\n",
       "      <td>yes</td>\n",
       "      <td>no</td>\n",
       "      <td>4</td>\n",
       "      <td>3</td>\n",
       "      <td>2</td>\n",
       "      <td>2</td>\n",
       "      <td>3</td>\n",
       "      <td>10</td>\n",
       "      <td>10</td>\n",
       "    </tr>\n",
       "    <tr>\n",
       "      <th>3</th>\n",
       "      <td>GP</td>\n",
       "      <td>F</td>\n",
       "      <td>15</td>\n",
       "      <td>U</td>\n",
       "      <td>GT3</td>\n",
       "      <td>T</td>\n",
       "      <td>4</td>\n",
       "      <td>health</td>\n",
       "      <td>services</td>\n",
       "      <td>home</td>\n",
       "      <td>...</td>\n",
       "      <td>yes</td>\n",
       "      <td>yes</td>\n",
       "      <td>yes</td>\n",
       "      <td>3</td>\n",
       "      <td>2</td>\n",
       "      <td>2</td>\n",
       "      <td>1</td>\n",
       "      <td>5</td>\n",
       "      <td>2</td>\n",
       "      <td>15</td>\n",
       "    </tr>\n",
       "    <tr>\n",
       "      <th>4</th>\n",
       "      <td>GP</td>\n",
       "      <td>F</td>\n",
       "      <td>16</td>\n",
       "      <td>U</td>\n",
       "      <td>GT3</td>\n",
       "      <td>T</td>\n",
       "      <td>3</td>\n",
       "      <td>other</td>\n",
       "      <td>other</td>\n",
       "      <td>home</td>\n",
       "      <td>...</td>\n",
       "      <td>yes</td>\n",
       "      <td>no</td>\n",
       "      <td>no</td>\n",
       "      <td>4</td>\n",
       "      <td>3</td>\n",
       "      <td>2</td>\n",
       "      <td>1</td>\n",
       "      <td>5</td>\n",
       "      <td>4</td>\n",
       "      <td>10</td>\n",
       "    </tr>\n",
       "  </tbody>\n",
       "</table>\n",
       "<p>5 rows × 29 columns</p>\n",
       "</div>"
      ],
      "text/plain": [
       "  school sex  age address famsize Pstatus  Medu     Mjob      Fjob  reason  \\\n",
       "0     GP   F   18       U     GT3       A     4  at_home   teacher  course   \n",
       "1     GP   F   17       U     GT3       T     1  at_home     other  course   \n",
       "2     GP   F   15       U     LE3       T     1  at_home     other   other   \n",
       "3     GP   F   15       U     GT3       T     4   health  services    home   \n",
       "4     GP   F   16       U     GT3       T     3    other     other    home   \n",
       "\n",
       "   ... higher  internet  romantic  famrel freetime goout Dalc health absences  \\\n",
       "0  ...    yes        no        no       4        3     4    1      3        6   \n",
       "1  ...    yes       yes        no       5        3     3    1      3        4   \n",
       "2  ...    yes       yes        no       4        3     2    2      3       10   \n",
       "3  ...    yes       yes       yes       3        2     2    1      5        2   \n",
       "4  ...    yes        no        no       4        3     2    1      5        4   \n",
       "\n",
       "   G3  \n",
       "0   6  \n",
       "1   6  \n",
       "2  10  \n",
       "3  15  \n",
       "4  10  \n",
       "\n",
       "[5 rows x 29 columns]"
      ]
     },
     "execution_count": 83,
     "metadata": {},
     "output_type": "execute_result"
    }
   ],
   "source": [
    "df_univariate = all_data.copy()\n",
    "df_univariate.head()"
   ]
  },
  {
   "cell_type": "code",
   "execution_count": 84,
   "metadata": {},
   "outputs": [
    {
     "data": {
      "text/html": [
       "<div>\n",
       "<style scoped>\n",
       "    .dataframe tbody tr th:only-of-type {\n",
       "        vertical-align: middle;\n",
       "    }\n",
       "\n",
       "    .dataframe tbody tr th {\n",
       "        vertical-align: top;\n",
       "    }\n",
       "\n",
       "    .dataframe thead th {\n",
       "        text-align: right;\n",
       "    }\n",
       "</style>\n",
       "<table border=\"1\" class=\"dataframe\">\n",
       "  <thead>\n",
       "    <tr style=\"text-align: right;\">\n",
       "      <th></th>\n",
       "      <th>school</th>\n",
       "      <th>sex</th>\n",
       "      <th>age</th>\n",
       "      <th>address</th>\n",
       "      <th>famsize</th>\n",
       "      <th>Pstatus</th>\n",
       "      <th>Medu</th>\n",
       "      <th>Mjob</th>\n",
       "      <th>Fjob</th>\n",
       "      <th>reason</th>\n",
       "      <th>...</th>\n",
       "      <th>higher</th>\n",
       "      <th>internet</th>\n",
       "      <th>romantic</th>\n",
       "      <th>famrel</th>\n",
       "      <th>freetime</th>\n",
       "      <th>goout</th>\n",
       "      <th>Dalc</th>\n",
       "      <th>health</th>\n",
       "      <th>absences</th>\n",
       "      <th>G3</th>\n",
       "    </tr>\n",
       "  </thead>\n",
       "  <tbody>\n",
       "    <tr>\n",
       "      <th>0</th>\n",
       "      <td>GP</td>\n",
       "      <td>F</td>\n",
       "      <td>18</td>\n",
       "      <td>U</td>\n",
       "      <td>GT3</td>\n",
       "      <td>A</td>\n",
       "      <td>4</td>\n",
       "      <td>at_home</td>\n",
       "      <td>teacher</td>\n",
       "      <td>course</td>\n",
       "      <td>...</td>\n",
       "      <td>yes</td>\n",
       "      <td>no</td>\n",
       "      <td>no</td>\n",
       "      <td>4</td>\n",
       "      <td>3</td>\n",
       "      <td>4</td>\n",
       "      <td>1</td>\n",
       "      <td>3</td>\n",
       "      <td>6</td>\n",
       "      <td>6</td>\n",
       "    </tr>\n",
       "    <tr>\n",
       "      <th>1</th>\n",
       "      <td>GP</td>\n",
       "      <td>F</td>\n",
       "      <td>17</td>\n",
       "      <td>U</td>\n",
       "      <td>GT3</td>\n",
       "      <td>T</td>\n",
       "      <td>1</td>\n",
       "      <td>at_home</td>\n",
       "      <td>other</td>\n",
       "      <td>course</td>\n",
       "      <td>...</td>\n",
       "      <td>yes</td>\n",
       "      <td>yes</td>\n",
       "      <td>no</td>\n",
       "      <td>5</td>\n",
       "      <td>3</td>\n",
       "      <td>3</td>\n",
       "      <td>1</td>\n",
       "      <td>3</td>\n",
       "      <td>4</td>\n",
       "      <td>6</td>\n",
       "    </tr>\n",
       "    <tr>\n",
       "      <th>2</th>\n",
       "      <td>GP</td>\n",
       "      <td>F</td>\n",
       "      <td>15</td>\n",
       "      <td>U</td>\n",
       "      <td>LE3</td>\n",
       "      <td>T</td>\n",
       "      <td>1</td>\n",
       "      <td>at_home</td>\n",
       "      <td>other</td>\n",
       "      <td>other</td>\n",
       "      <td>...</td>\n",
       "      <td>yes</td>\n",
       "      <td>yes</td>\n",
       "      <td>no</td>\n",
       "      <td>4</td>\n",
       "      <td>3</td>\n",
       "      <td>2</td>\n",
       "      <td>2</td>\n",
       "      <td>3</td>\n",
       "      <td>10</td>\n",
       "      <td>10</td>\n",
       "    </tr>\n",
       "    <tr>\n",
       "      <th>3</th>\n",
       "      <td>GP</td>\n",
       "      <td>F</td>\n",
       "      <td>15</td>\n",
       "      <td>U</td>\n",
       "      <td>GT3</td>\n",
       "      <td>T</td>\n",
       "      <td>4</td>\n",
       "      <td>health</td>\n",
       "      <td>services</td>\n",
       "      <td>home</td>\n",
       "      <td>...</td>\n",
       "      <td>yes</td>\n",
       "      <td>yes</td>\n",
       "      <td>yes</td>\n",
       "      <td>3</td>\n",
       "      <td>2</td>\n",
       "      <td>2</td>\n",
       "      <td>1</td>\n",
       "      <td>5</td>\n",
       "      <td>2</td>\n",
       "      <td>15</td>\n",
       "    </tr>\n",
       "    <tr>\n",
       "      <th>4</th>\n",
       "      <td>GP</td>\n",
       "      <td>F</td>\n",
       "      <td>16</td>\n",
       "      <td>U</td>\n",
       "      <td>GT3</td>\n",
       "      <td>T</td>\n",
       "      <td>3</td>\n",
       "      <td>other</td>\n",
       "      <td>other</td>\n",
       "      <td>home</td>\n",
       "      <td>...</td>\n",
       "      <td>yes</td>\n",
       "      <td>no</td>\n",
       "      <td>no</td>\n",
       "      <td>4</td>\n",
       "      <td>3</td>\n",
       "      <td>2</td>\n",
       "      <td>1</td>\n",
       "      <td>5</td>\n",
       "      <td>4</td>\n",
       "      <td>10</td>\n",
       "    </tr>\n",
       "  </tbody>\n",
       "</table>\n",
       "<p>5 rows × 29 columns</p>\n",
       "</div>"
      ],
      "text/plain": [
       "  school sex  age address famsize Pstatus  Medu     Mjob      Fjob  reason  \\\n",
       "0     GP   F   18       U     GT3       A     4  at_home   teacher  course   \n",
       "1     GP   F   17       U     GT3       T     1  at_home     other  course   \n",
       "2     GP   F   15       U     LE3       T     1  at_home     other   other   \n",
       "3     GP   F   15       U     GT3       T     4   health  services    home   \n",
       "4     GP   F   16       U     GT3       T     3    other     other    home   \n",
       "\n",
       "   ... higher  internet  romantic  famrel freetime goout Dalc health absences  \\\n",
       "0  ...    yes        no        no       4        3     4    1      3        6   \n",
       "1  ...    yes       yes        no       5        3     3    1      3        4   \n",
       "2  ...    yes       yes        no       4        3     2    2      3       10   \n",
       "3  ...    yes       yes       yes       3        2     2    1      5        2   \n",
       "4  ...    yes        no        no       4        3     2    1      5        4   \n",
       "\n",
       "   G3  \n",
       "0   6  \n",
       "1   6  \n",
       "2  10  \n",
       "3  15  \n",
       "4  10  \n",
       "\n",
       "[5 rows x 29 columns]"
      ]
     },
     "execution_count": 84,
     "metadata": {},
     "output_type": "execute_result"
    }
   ],
   "source": [
    "df_backward_elim = all_data.copy()\n",
    "df_backward_elim.head()"
   ]
  },
  {
   "cell_type": "markdown",
   "metadata": {},
   "source": [
    "# Model 1 Task: Univariate Feature Selection"
   ]
  },
  {
   "cell_type": "code",
   "execution_count": 85,
   "metadata": {},
   "outputs": [
    {
     "name": "stdout",
     "output_type": "stream",
     "text": [
      "[ 8.172 69.135 15.589  9.203 11.948  9.138 13.086 15.548 42.367 22.153\n",
      " 51.343]\n"
     ]
    }
   ],
   "source": [
    "from sklearn.feature_selection import SelectKBest\n",
    "from sklearn.feature_selection import chi2\n",
    "\n",
    "X = df_univariate[[\"age\", \"failures\", \"Medu\", \"traveltime\", \"studytime\", \"famrel\", \"freetime\", \"goout\", \"Dalc\", \"health\", \"G3\"]]\n",
    "y = df_univariate['absences']\n",
    "# feature extraction\n",
    "test = SelectKBest(score_func=chi2, k=3)\n",
    "fit = test.fit(X, y)\n",
    "# summarize scores\n",
    "np.set_printoptions(precision=3)\n",
    "print(fit.scores_)\n",
    "\n",
    "#The three highest performing features are \"failures\", \"G3\", \"Dalc\"\n",
    "#No need to convert any discrete variables into dummies because they are all continuous"
   ]
  },
  {
   "cell_type": "code",
   "execution_count": 90,
   "metadata": {},
   "outputs": [],
   "source": [
    "X = df_univariate[['failures', 'G3', 'Dalc']]\n",
    "y = df_univariate['absences']"
   ]
  },
  {
   "cell_type": "code",
   "execution_count": 92,
   "metadata": {},
   "outputs": [],
   "source": [
    "from sklearn.model_selection import train_test_split\n",
    "\n",
    "X_train, X_test, y_train, y_test = train_test_split(X, y, test_size=0.20, random_state=1)"
   ]
  },
  {
   "cell_type": "code",
   "execution_count": 93,
   "metadata": {},
   "outputs": [
    {
     "data": {
      "text/plain": [
       "LinearRegression()"
      ]
     },
     "execution_count": 93,
     "metadata": {},
     "output_type": "execute_result"
    }
   ],
   "source": [
    "#Linear Regression Model\n",
    "from sklearn.linear_model import LinearRegression\n",
    "\n",
    "regression_model = LinearRegression()\n",
    "regression_model.fit(X_train, y_train)"
   ]
  },
  {
   "cell_type": "code",
   "execution_count": 95,
   "metadata": {
    "scrolled": true
   },
   "outputs": [
    {
     "data": {
      "text/plain": [
       "0.03169420752365815"
      ]
     },
     "execution_count": 95,
     "metadata": {},
     "output_type": "execute_result"
    }
   ],
   "source": [
    "regression_model.score(X_test, y_test)\n",
    "#R^2 Score"
   ]
  },
  {
   "cell_type": "code",
   "execution_count": 98,
   "metadata": {},
   "outputs": [
    {
     "data": {
      "text/plain": [
       "27.49105290843148"
      ]
     },
     "execution_count": 98,
     "metadata": {},
     "output_type": "execute_result"
    }
   ],
   "source": [
    "from sklearn.metrics import mean_squared_error\n",
    "y_predict = regression_model.predict(X_test)\n",
    "regression_model_mse = mean_squared_error(y_predict, y_test)\n",
    "regression_model_mse\n",
    "#RMSE Score"
   ]
  },
  {
   "cell_type": "markdown",
   "metadata": {},
   "source": [
    "### A good linear regression model will have a low RSME score and a high R^2 score. For this model, the RSME score is 27.491 and the R*2 score is  0.03169. This model has a high RSME score which means that there is a large difference between values predicted by the model and the values observed. A high RSME score means a less accurate model. This mode has a low R^2 score which means that less than 3% of the observed variation can be explained by the model's inputs. This is not a good linear regression model"
   ]
  },
  {
   "cell_type": "markdown",
   "metadata": {},
   "source": [
    "# Model 2 Task: Backward Feature Elimination"
   ]
  },
  {
   "cell_type": "code",
   "execution_count": 99,
   "metadata": {
    "scrolled": true
   },
   "outputs": [
    {
     "name": "stderr",
     "output_type": "stream",
     "text": [
      "C:\\Users\\kzhan\\anaconda3\\lib\\site-packages\\sklearn\\utils\\validation.py:68: FutureWarning: Pass n_features_to_select=3 as keyword args. From version 0.25 passing these as positional arguments will result in an error\n",
      "  warnings.warn(\"Pass {} as keyword args. From version 0.25 \"\n",
      "C:\\Users\\kzhan\\anaconda3\\lib\\site-packages\\sklearn\\linear_model\\_logistic.py:762: ConvergenceWarning: lbfgs failed to converge (status=1):\n",
      "STOP: TOTAL NO. of ITERATIONS REACHED LIMIT.\n",
      "\n",
      "Increase the number of iterations (max_iter) or scale the data as shown in:\n",
      "    https://scikit-learn.org/stable/modules/preprocessing.html\n",
      "Please also refer to the documentation for alternative solver options:\n",
      "    https://scikit-learn.org/stable/modules/linear_model.html#logistic-regression\n",
      "  n_iter_i = _check_optimize_result(\n",
      "C:\\Users\\kzhan\\anaconda3\\lib\\site-packages\\sklearn\\linear_model\\_logistic.py:762: ConvergenceWarning: lbfgs failed to converge (status=1):\n",
      "STOP: TOTAL NO. of ITERATIONS REACHED LIMIT.\n",
      "\n",
      "Increase the number of iterations (max_iter) or scale the data as shown in:\n",
      "    https://scikit-learn.org/stable/modules/preprocessing.html\n",
      "Please also refer to the documentation for alternative solver options:\n",
      "    https://scikit-learn.org/stable/modules/linear_model.html#logistic-regression\n",
      "  n_iter_i = _check_optimize_result(\n",
      "C:\\Users\\kzhan\\anaconda3\\lib\\site-packages\\sklearn\\linear_model\\_logistic.py:762: ConvergenceWarning: lbfgs failed to converge (status=1):\n",
      "STOP: TOTAL NO. of ITERATIONS REACHED LIMIT.\n",
      "\n",
      "Increase the number of iterations (max_iter) or scale the data as shown in:\n",
      "    https://scikit-learn.org/stable/modules/preprocessing.html\n",
      "Please also refer to the documentation for alternative solver options:\n",
      "    https://scikit-learn.org/stable/modules/linear_model.html#logistic-regression\n",
      "  n_iter_i = _check_optimize_result(\n",
      "C:\\Users\\kzhan\\anaconda3\\lib\\site-packages\\sklearn\\linear_model\\_logistic.py:762: ConvergenceWarning: lbfgs failed to converge (status=1):\n",
      "STOP: TOTAL NO. of ITERATIONS REACHED LIMIT.\n",
      "\n",
      "Increase the number of iterations (max_iter) or scale the data as shown in:\n",
      "    https://scikit-learn.org/stable/modules/preprocessing.html\n",
      "Please also refer to the documentation for alternative solver options:\n",
      "    https://scikit-learn.org/stable/modules/linear_model.html#logistic-regression\n",
      "  n_iter_i = _check_optimize_result(\n",
      "C:\\Users\\kzhan\\anaconda3\\lib\\site-packages\\sklearn\\linear_model\\_logistic.py:762: ConvergenceWarning: lbfgs failed to converge (status=1):\n",
      "STOP: TOTAL NO. of ITERATIONS REACHED LIMIT.\n",
      "\n",
      "Increase the number of iterations (max_iter) or scale the data as shown in:\n",
      "    https://scikit-learn.org/stable/modules/preprocessing.html\n",
      "Please also refer to the documentation for alternative solver options:\n",
      "    https://scikit-learn.org/stable/modules/linear_model.html#logistic-regression\n",
      "  n_iter_i = _check_optimize_result(\n",
      "C:\\Users\\kzhan\\anaconda3\\lib\\site-packages\\sklearn\\linear_model\\_logistic.py:762: ConvergenceWarning: lbfgs failed to converge (status=1):\n",
      "STOP: TOTAL NO. of ITERATIONS REACHED LIMIT.\n",
      "\n",
      "Increase the number of iterations (max_iter) or scale the data as shown in:\n",
      "    https://scikit-learn.org/stable/modules/preprocessing.html\n",
      "Please also refer to the documentation for alternative solver options:\n",
      "    https://scikit-learn.org/stable/modules/linear_model.html#logistic-regression\n",
      "  n_iter_i = _check_optimize_result(\n",
      "C:\\Users\\kzhan\\anaconda3\\lib\\site-packages\\sklearn\\linear_model\\_logistic.py:762: ConvergenceWarning: lbfgs failed to converge (status=1):\n",
      "STOP: TOTAL NO. of ITERATIONS REACHED LIMIT.\n",
      "\n",
      "Increase the number of iterations (max_iter) or scale the data as shown in:\n",
      "    https://scikit-learn.org/stable/modules/preprocessing.html\n",
      "Please also refer to the documentation for alternative solver options:\n",
      "    https://scikit-learn.org/stable/modules/linear_model.html#logistic-regression\n",
      "  n_iter_i = _check_optimize_result(\n",
      "C:\\Users\\kzhan\\anaconda3\\lib\\site-packages\\sklearn\\linear_model\\_logistic.py:762: ConvergenceWarning: lbfgs failed to converge (status=1):\n",
      "STOP: TOTAL NO. of ITERATIONS REACHED LIMIT.\n",
      "\n",
      "Increase the number of iterations (max_iter) or scale the data as shown in:\n",
      "    https://scikit-learn.org/stable/modules/preprocessing.html\n",
      "Please also refer to the documentation for alternative solver options:\n",
      "    https://scikit-learn.org/stable/modules/linear_model.html#logistic-regression\n",
      "  n_iter_i = _check_optimize_result(\n"
     ]
    },
    {
     "name": "stdout",
     "output_type": "stream",
     "text": [
      "Columns: Index(['age', 'failures', 'Medu', 'traveltime', 'studytime', 'famrel',\n",
      "       'freetime', 'goout', 'Dalc', 'health', 'G3'],\n",
      "      dtype='object')\n",
      "Num Features:  3\n",
      "Selected Features:  [False False False False False False  True False  True  True False]\n",
      "Feature Ranking:  [8 5 6 2 3 7 1 4 1 1 9]\n"
     ]
    },
    {
     "name": "stderr",
     "output_type": "stream",
     "text": [
      "C:\\Users\\kzhan\\anaconda3\\lib\\site-packages\\sklearn\\linear_model\\_logistic.py:762: ConvergenceWarning: lbfgs failed to converge (status=1):\n",
      "STOP: TOTAL NO. of ITERATIONS REACHED LIMIT.\n",
      "\n",
      "Increase the number of iterations (max_iter) or scale the data as shown in:\n",
      "    https://scikit-learn.org/stable/modules/preprocessing.html\n",
      "Please also refer to the documentation for alternative solver options:\n",
      "    https://scikit-learn.org/stable/modules/linear_model.html#logistic-regression\n",
      "  n_iter_i = _check_optimize_result(\n"
     ]
    }
   ],
   "source": [
    "from sklearn.feature_selection import RFE\n",
    "from sklearn.linear_model import LogisticRegression\n",
    "\n",
    "X = df_backward_elim[[\"age\", \"failures\", \"Medu\", \"traveltime\", \"studytime\", \"famrel\", \"freetime\", \"goout\", \"Dalc\", \"health\", \"G3\"]]\n",
    "y = df_backward_elim[\"absences\"]\n",
    "model = LogisticRegression()\n",
    "rfe = RFE(model, 3)\n",
    "fit = rfe.fit(X, y)\n",
    "print(\"Columns: \" + str(X.columns))\n",
    "print(\"Num Features: \",  fit.n_features_)\n",
    "print(\"Selected Features: \", fit.support_)\n",
    "print(\"Feature Ranking: \",  fit.ranking_)\n",
    "\n",
    "#The three highest performing features are \"freetime\", \"Dalc\", and \"health\""
   ]
  },
  {
   "cell_type": "code",
   "execution_count": 101,
   "metadata": {},
   "outputs": [],
   "source": [
    "X = df_backward_elim[['freetime', 'Dalc', 'health']]\n",
    "y = df_backward_elim['absences']"
   ]
  },
  {
   "cell_type": "code",
   "execution_count": 102,
   "metadata": {},
   "outputs": [],
   "source": [
    "from sklearn.model_selection import train_test_split\n",
    "X_train, X_test, y_train, y_test = train_test_split(X, y, test_size=0.20, random_state=1)"
   ]
  },
  {
   "cell_type": "code",
   "execution_count": 104,
   "metadata": {},
   "outputs": [
    {
     "data": {
      "text/plain": [
       "LinearRegression()"
      ]
     },
     "execution_count": 104,
     "metadata": {},
     "output_type": "execute_result"
    }
   ],
   "source": [
    "#Linear Regression Model\n",
    "from sklearn.linear_model import LinearRegression\n",
    "\n",
    "regression_model = LinearRegression()\n",
    "regression_model.fit(X_train, y_train)"
   ]
  },
  {
   "cell_type": "code",
   "execution_count": 105,
   "metadata": {},
   "outputs": [
    {
     "data": {
      "text/plain": [
       "-0.03276784629038665"
      ]
     },
     "execution_count": 105,
     "metadata": {},
     "output_type": "execute_result"
    }
   ],
   "source": [
    "regression_model.score(X_test, y_test)\n",
    "#R^2 Score"
   ]
  },
  {
   "cell_type": "code",
   "execution_count": 107,
   "metadata": {},
   "outputs": [
    {
     "data": {
      "text/plain": [
       "29.32118729960973"
      ]
     },
     "execution_count": 107,
     "metadata": {},
     "output_type": "execute_result"
    }
   ],
   "source": [
    "from sklearn.metrics import mean_squared_error\n",
    "y_predict = regression_model.predict(X_test)\n",
    "regression_model_mse = mean_squared_error(y_predict, y_test)\n",
    "regression_model_mse\n",
    "#RSME Score"
   ]
  },
  {
   "cell_type": "markdown",
   "metadata": {},
   "source": [
    "### The regression model created with the backward feature selection was not a good one either. For this model, the R^2 score was -0.03276 and the RSME score is 29.321. The R^2 score went into the negatives which means that the model did not follow the trend of the data and failed in improving the prediction over the mean model. Similarly to the univariate model, the RSME score is very high which means that the standard deviation is high which results in a lot of spread. This is not a good linear regression model"
   ]
  },
  {
   "cell_type": "markdown",
   "metadata": {},
   "source": [
    "# Comparison\n"
   ]
  },
  {
   "cell_type": "markdown",
   "metadata": {},
   "source": [
    "### Both models were not good linear regression models and did not do a good job at predicting absences. When comparing the scores of the two models, the univariate model is slightly better than the backward feature selection model. The R^2 score for the univariate model was 0.03169 and the R^2 score for the backward feature selection model was -0.03276. The univariate model has a better R^2 score because it is in the positives and show there there is a relationship between the predictors and the response even though the relationship is so small. The RSME score for the univariate model is 27.491 and the RSME score for the backward feature selection model is 29.321. A linear regression model prefers a lower RSME score and the univariate model has the lower score between the two. As a result, the univariate model is preferred because both the R^2 score and the RSME are better."
   ]
  }
 ],
 "metadata": {
  "kernelspec": {
   "display_name": "Python 3",
   "language": "python",
   "name": "python3"
  },
  "language_info": {
   "codemirror_mode": {
    "name": "ipython",
    "version": 3
   },
   "file_extension": ".py",
   "mimetype": "text/x-python",
   "name": "python",
   "nbconvert_exporter": "python",
   "pygments_lexer": "ipython3",
   "version": "3.8.3"
  }
 },
 "nbformat": 4,
 "nbformat_minor": 4
}

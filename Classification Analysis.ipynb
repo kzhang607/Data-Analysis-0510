{
 "cells": [
  {
   "cell_type": "code",
   "execution_count": 112,
   "metadata": {},
   "outputs": [],
   "source": [
    "import pandas as pd\n",
    "import numpy as np\n",
    "import matplotlib.pyplot as plt\n",
    "import seaborn as sns\n",
    "%matplotlib inline\n",
    "\n",
    "from sklearn.linear_model import LinearRegression\n",
    "from scipy import stats\n",
    "from sklearn import preprocessing as prep"
   ]
  },
  {
   "cell_type": "code",
   "execution_count": 113,
   "metadata": {
    "scrolled": true
   },
   "outputs": [
    {
     "data": {
      "text/html": [
       "<div>\n",
       "<style scoped>\n",
       "    .dataframe tbody tr th:only-of-type {\n",
       "        vertical-align: middle;\n",
       "    }\n",
       "\n",
       "    .dataframe tbody tr th {\n",
       "        vertical-align: top;\n",
       "    }\n",
       "\n",
       "    .dataframe thead th {\n",
       "        text-align: right;\n",
       "    }\n",
       "</style>\n",
       "<table border=\"1\" class=\"dataframe\">\n",
       "  <thead>\n",
       "    <tr style=\"text-align: right;\">\n",
       "      <th></th>\n",
       "      <th>age_upon_outcome</th>\n",
       "      <th>animal_id</th>\n",
       "      <th>animal_type</th>\n",
       "      <th>breed</th>\n",
       "      <th>color</th>\n",
       "      <th>date_of_birth</th>\n",
       "      <th>datetime</th>\n",
       "      <th>monthyear</th>\n",
       "      <th>name</th>\n",
       "      <th>outcome_subtype</th>\n",
       "      <th>outcome_type</th>\n",
       "      <th>sex_upon_outcome</th>\n",
       "    </tr>\n",
       "  </thead>\n",
       "  <tbody>\n",
       "    <tr>\n",
       "      <th>0</th>\n",
       "      <td>2 weeks</td>\n",
       "      <td>A684346</td>\n",
       "      <td>Cat</td>\n",
       "      <td>Domestic Shorthair Mix</td>\n",
       "      <td>Orange Tabby</td>\n",
       "      <td>2014-07-07T00:00:00</td>\n",
       "      <td>2014-07-22T16:04:00</td>\n",
       "      <td>2014-07-22T16:04:00</td>\n",
       "      <td>NaN</td>\n",
       "      <td>Partner</td>\n",
       "      <td>Transfer</td>\n",
       "      <td>Intact Male</td>\n",
       "    </tr>\n",
       "    <tr>\n",
       "      <th>1</th>\n",
       "      <td>1 year</td>\n",
       "      <td>A666430</td>\n",
       "      <td>Dog</td>\n",
       "      <td>Beagle Mix</td>\n",
       "      <td>White/Brown</td>\n",
       "      <td>2012-11-06T00:00:00</td>\n",
       "      <td>2013-11-07T11:47:00</td>\n",
       "      <td>2013-11-07T11:47:00</td>\n",
       "      <td>Lucy</td>\n",
       "      <td>Partner</td>\n",
       "      <td>Transfer</td>\n",
       "      <td>Spayed Female</td>\n",
       "    </tr>\n",
       "    <tr>\n",
       "      <th>2</th>\n",
       "      <td>1 year</td>\n",
       "      <td>A675708</td>\n",
       "      <td>Dog</td>\n",
       "      <td>Pit Bull</td>\n",
       "      <td>Blue/White</td>\n",
       "      <td>2013-03-31T00:00:00</td>\n",
       "      <td>2014-06-03T14:20:00</td>\n",
       "      <td>2014-06-03T14:20:00</td>\n",
       "      <td>*Johnny</td>\n",
       "      <td>NaN</td>\n",
       "      <td>Adoption</td>\n",
       "      <td>Neutered Male</td>\n",
       "    </tr>\n",
       "    <tr>\n",
       "      <th>3</th>\n",
       "      <td>9 years</td>\n",
       "      <td>A680386</td>\n",
       "      <td>Dog</td>\n",
       "      <td>Miniature Schnauzer Mix</td>\n",
       "      <td>White</td>\n",
       "      <td>2005-06-02T00:00:00</td>\n",
       "      <td>2014-06-15T15:50:00</td>\n",
       "      <td>2014-06-15T15:50:00</td>\n",
       "      <td>Monday</td>\n",
       "      <td>Partner</td>\n",
       "      <td>Transfer</td>\n",
       "      <td>Neutered Male</td>\n",
       "    </tr>\n",
       "    <tr>\n",
       "      <th>4</th>\n",
       "      <td>5 months</td>\n",
       "      <td>A683115</td>\n",
       "      <td>Other</td>\n",
       "      <td>Bat Mix</td>\n",
       "      <td>Brown</td>\n",
       "      <td>2014-01-07T00:00:00</td>\n",
       "      <td>2014-07-07T14:04:00</td>\n",
       "      <td>2014-07-07T14:04:00</td>\n",
       "      <td>NaN</td>\n",
       "      <td>Rabies Risk</td>\n",
       "      <td>Euthanasia</td>\n",
       "      <td>Unknown</td>\n",
       "    </tr>\n",
       "    <tr>\n",
       "      <th>5</th>\n",
       "      <td>4 months</td>\n",
       "      <td>A664462</td>\n",
       "      <td>Dog</td>\n",
       "      <td>Leonberger Mix</td>\n",
       "      <td>Brown/White</td>\n",
       "      <td>2013-06-03T00:00:00</td>\n",
       "      <td>2013-10-07T13:06:00</td>\n",
       "      <td>2013-10-07T13:06:00</td>\n",
       "      <td>*Edgar</td>\n",
       "      <td>Partner</td>\n",
       "      <td>Transfer</td>\n",
       "      <td>Intact Male</td>\n",
       "    </tr>\n",
       "    <tr>\n",
       "      <th>6</th>\n",
       "      <td>1 year</td>\n",
       "      <td>A693700</td>\n",
       "      <td>Other</td>\n",
       "      <td>Squirrel Mix</td>\n",
       "      <td>Tan</td>\n",
       "      <td>2013-12-13T00:00:00</td>\n",
       "      <td>2014-12-13T12:20:00</td>\n",
       "      <td>2014-12-13T12:20:00</td>\n",
       "      <td>NaN</td>\n",
       "      <td>Suffering</td>\n",
       "      <td>Euthanasia</td>\n",
       "      <td>Unknown</td>\n",
       "    </tr>\n",
       "    <tr>\n",
       "      <th>7</th>\n",
       "      <td>3 years</td>\n",
       "      <td>A692618</td>\n",
       "      <td>Dog</td>\n",
       "      <td>Chihuahua Shorthair Mix</td>\n",
       "      <td>Brown</td>\n",
       "      <td>2011-11-23T00:00:00</td>\n",
       "      <td>2014-12-08T15:55:00</td>\n",
       "      <td>2014-12-08T15:55:00</td>\n",
       "      <td>*Ella</td>\n",
       "      <td>Partner</td>\n",
       "      <td>Transfer</td>\n",
       "      <td>Spayed Female</td>\n",
       "    </tr>\n",
       "    <tr>\n",
       "      <th>8</th>\n",
       "      <td>1 month</td>\n",
       "      <td>A685067</td>\n",
       "      <td>Cat</td>\n",
       "      <td>Domestic Shorthair Mix</td>\n",
       "      <td>Blue Tabby/White</td>\n",
       "      <td>2014-06-16T00:00:00</td>\n",
       "      <td>2014-08-14T18:45:00</td>\n",
       "      <td>2014-08-14T18:45:00</td>\n",
       "      <td>Lucy</td>\n",
       "      <td>NaN</td>\n",
       "      <td>Adoption</td>\n",
       "      <td>Intact Female</td>\n",
       "    </tr>\n",
       "    <tr>\n",
       "      <th>9</th>\n",
       "      <td>3 months</td>\n",
       "      <td>A678580</td>\n",
       "      <td>Cat</td>\n",
       "      <td>Domestic Shorthair Mix</td>\n",
       "      <td>White/Black</td>\n",
       "      <td>2014-03-26T00:00:00</td>\n",
       "      <td>2014-06-29T17:45:00</td>\n",
       "      <td>2014-06-29T17:45:00</td>\n",
       "      <td>*Frida</td>\n",
       "      <td>Offsite</td>\n",
       "      <td>Adoption</td>\n",
       "      <td>Spayed Female</td>\n",
       "    </tr>\n",
       "    <tr>\n",
       "      <th>10</th>\n",
       "      <td>1 year</td>\n",
       "      <td>A675405</td>\n",
       "      <td>Cat</td>\n",
       "      <td>Domestic Medium Hair Mix</td>\n",
       "      <td>Black/White</td>\n",
       "      <td>2013-03-27T00:00:00</td>\n",
       "      <td>2014-03-28T14:55:00</td>\n",
       "      <td>2014-03-28T14:55:00</td>\n",
       "      <td>Stella Luna</td>\n",
       "      <td>NaN</td>\n",
       "      <td>Return to Owner</td>\n",
       "      <td>Spayed Female</td>\n",
       "    </tr>\n",
       "    <tr>\n",
       "      <th>11</th>\n",
       "      <td>2 years</td>\n",
       "      <td>A673652</td>\n",
       "      <td>Dog</td>\n",
       "      <td>Papillon/Border Collie</td>\n",
       "      <td>Black/White</td>\n",
       "      <td>2012-02-28T00:00:00</td>\n",
       "      <td>2014-03-28T14:39:00</td>\n",
       "      <td>2014-03-28T14:39:00</td>\n",
       "      <td>Fancy</td>\n",
       "      <td>Partner</td>\n",
       "      <td>Transfer</td>\n",
       "      <td>Neutered Male</td>\n",
       "    </tr>\n",
       "    <tr>\n",
       "      <th>12</th>\n",
       "      <td>2 months</td>\n",
       "      <td>A677679</td>\n",
       "      <td>Dog</td>\n",
       "      <td>Chihuahua Shorthair/Pomeranian</td>\n",
       "      <td>Black</td>\n",
       "      <td>2014-03-07T00:00:00</td>\n",
       "      <td>2014-05-26T19:10:00</td>\n",
       "      <td>2014-05-26T19:10:00</td>\n",
       "      <td>Kash</td>\n",
       "      <td>Foster</td>\n",
       "      <td>Adoption</td>\n",
       "      <td>Neutered Male</td>\n",
       "    </tr>\n",
       "    <tr>\n",
       "      <th>13</th>\n",
       "      <td>4 years</td>\n",
       "      <td>A640655</td>\n",
       "      <td>Dog</td>\n",
       "      <td>Miniature Schnauzer/Miniature Poodle</td>\n",
       "      <td>White</td>\n",
       "      <td>2009-04-27T00:00:00</td>\n",
       "      <td>2014-04-25T11:17:00</td>\n",
       "      <td>2014-04-25T11:17:00</td>\n",
       "      <td>Sandy</td>\n",
       "      <td>NaN</td>\n",
       "      <td>Return to Owner</td>\n",
       "      <td>Spayed Female</td>\n",
       "    </tr>\n",
       "    <tr>\n",
       "      <th>14</th>\n",
       "      <td>8 years</td>\n",
       "      <td>A690350</td>\n",
       "      <td>Dog</td>\n",
       "      <td>Labrador Retriever Mix</td>\n",
       "      <td>Black</td>\n",
       "      <td>2006-10-18T00:00:00</td>\n",
       "      <td>2014-10-26T18:20:00</td>\n",
       "      <td>2014-10-26T18:20:00</td>\n",
       "      <td>Shy</td>\n",
       "      <td>NaN</td>\n",
       "      <td>Return to Owner</td>\n",
       "      <td>Neutered Male</td>\n",
       "    </tr>\n",
       "    <tr>\n",
       "      <th>15</th>\n",
       "      <td>2 years</td>\n",
       "      <td>A680396</td>\n",
       "      <td>Dog</td>\n",
       "      <td>Rat Terrier Mix</td>\n",
       "      <td>White/Black</td>\n",
       "      <td>2012-06-02T00:00:00</td>\n",
       "      <td>2014-06-15T15:11:00</td>\n",
       "      <td>2014-06-15T15:11:00</td>\n",
       "      <td>*Truman</td>\n",
       "      <td>Partner</td>\n",
       "      <td>Transfer</td>\n",
       "      <td>Neutered Male</td>\n",
       "    </tr>\n",
       "    <tr>\n",
       "      <th>16</th>\n",
       "      <td>1 year</td>\n",
       "      <td>A674298</td>\n",
       "      <td>Dog</td>\n",
       "      <td>Pit Bull Mix</td>\n",
       "      <td>Brown Brindle/White</td>\n",
       "      <td>2013-03-11T00:00:00</td>\n",
       "      <td>2014-04-16T12:51:00</td>\n",
       "      <td>2014-04-16T12:51:00</td>\n",
       "      <td>*Newt</td>\n",
       "      <td>Partner</td>\n",
       "      <td>Transfer</td>\n",
       "      <td>Neutered Male</td>\n",
       "    </tr>\n",
       "    <tr>\n",
       "      <th>17</th>\n",
       "      <td>3 weeks</td>\n",
       "      <td>A670420</td>\n",
       "      <td>Cat</td>\n",
       "      <td>Domestic Shorthair Mix</td>\n",
       "      <td>Black/White</td>\n",
       "      <td>2013-12-16T00:00:00</td>\n",
       "      <td>2014-01-09T19:29:00</td>\n",
       "      <td>2014-01-09T19:29:00</td>\n",
       "      <td>NaN</td>\n",
       "      <td>Partner</td>\n",
       "      <td>Transfer</td>\n",
       "      <td>Intact Male</td>\n",
       "    </tr>\n",
       "    <tr>\n",
       "      <th>18</th>\n",
       "      <td>2 months</td>\n",
       "      <td>A692378</td>\n",
       "      <td>Dog</td>\n",
       "      <td>German Shepherd/Labrador Retriever</td>\n",
       "      <td>Black/White</td>\n",
       "      <td>2014-10-19T00:00:00</td>\n",
       "      <td>2014-12-21T18:20:00</td>\n",
       "      <td>2014-12-21T18:20:00</td>\n",
       "      <td>*Bonnie</td>\n",
       "      <td>Foster</td>\n",
       "      <td>Adoption</td>\n",
       "      <td>Spayed Female</td>\n",
       "    </tr>\n",
       "    <tr>\n",
       "      <th>19</th>\n",
       "      <td>2 months</td>\n",
       "      <td>A684460</td>\n",
       "      <td>Cat</td>\n",
       "      <td>Domestic Shorthair Mix</td>\n",
       "      <td>Brown Tabby</td>\n",
       "      <td>2014-06-02T00:00:00</td>\n",
       "      <td>2014-08-13T15:04:00</td>\n",
       "      <td>2014-08-13T15:04:00</td>\n",
       "      <td>Elsa</td>\n",
       "      <td>NaN</td>\n",
       "      <td>Adoption</td>\n",
       "      <td>Spayed Female</td>\n",
       "    </tr>\n",
       "  </tbody>\n",
       "</table>\n",
       "</div>"
      ],
      "text/plain": [
       "   age_upon_outcome animal_id animal_type  \\\n",
       "0           2 weeks   A684346         Cat   \n",
       "1            1 year   A666430         Dog   \n",
       "2            1 year   A675708         Dog   \n",
       "3           9 years   A680386         Dog   \n",
       "4          5 months   A683115       Other   \n",
       "5          4 months   A664462         Dog   \n",
       "6            1 year   A693700       Other   \n",
       "7           3 years   A692618         Dog   \n",
       "8           1 month   A685067         Cat   \n",
       "9          3 months   A678580         Cat   \n",
       "10           1 year   A675405         Cat   \n",
       "11          2 years   A673652         Dog   \n",
       "12         2 months   A677679         Dog   \n",
       "13          4 years   A640655         Dog   \n",
       "14          8 years   A690350         Dog   \n",
       "15          2 years   A680396         Dog   \n",
       "16           1 year   A674298         Dog   \n",
       "17          3 weeks   A670420         Cat   \n",
       "18         2 months   A692378         Dog   \n",
       "19         2 months   A684460         Cat   \n",
       "\n",
       "                                   breed                color  \\\n",
       "0                 Domestic Shorthair Mix         Orange Tabby   \n",
       "1                             Beagle Mix          White/Brown   \n",
       "2                               Pit Bull           Blue/White   \n",
       "3                Miniature Schnauzer Mix                White   \n",
       "4                                Bat Mix                Brown   \n",
       "5                         Leonberger Mix          Brown/White   \n",
       "6                           Squirrel Mix                  Tan   \n",
       "7                Chihuahua Shorthair Mix                Brown   \n",
       "8                 Domestic Shorthair Mix     Blue Tabby/White   \n",
       "9                 Domestic Shorthair Mix          White/Black   \n",
       "10              Domestic Medium Hair Mix          Black/White   \n",
       "11                Papillon/Border Collie          Black/White   \n",
       "12        Chihuahua Shorthair/Pomeranian                Black   \n",
       "13  Miniature Schnauzer/Miniature Poodle                White   \n",
       "14                Labrador Retriever Mix                Black   \n",
       "15                       Rat Terrier Mix          White/Black   \n",
       "16                          Pit Bull Mix  Brown Brindle/White   \n",
       "17                Domestic Shorthair Mix          Black/White   \n",
       "18    German Shepherd/Labrador Retriever          Black/White   \n",
       "19                Domestic Shorthair Mix          Brown Tabby   \n",
       "\n",
       "          date_of_birth             datetime            monthyear  \\\n",
       "0   2014-07-07T00:00:00  2014-07-22T16:04:00  2014-07-22T16:04:00   \n",
       "1   2012-11-06T00:00:00  2013-11-07T11:47:00  2013-11-07T11:47:00   \n",
       "2   2013-03-31T00:00:00  2014-06-03T14:20:00  2014-06-03T14:20:00   \n",
       "3   2005-06-02T00:00:00  2014-06-15T15:50:00  2014-06-15T15:50:00   \n",
       "4   2014-01-07T00:00:00  2014-07-07T14:04:00  2014-07-07T14:04:00   \n",
       "5   2013-06-03T00:00:00  2013-10-07T13:06:00  2013-10-07T13:06:00   \n",
       "6   2013-12-13T00:00:00  2014-12-13T12:20:00  2014-12-13T12:20:00   \n",
       "7   2011-11-23T00:00:00  2014-12-08T15:55:00  2014-12-08T15:55:00   \n",
       "8   2014-06-16T00:00:00  2014-08-14T18:45:00  2014-08-14T18:45:00   \n",
       "9   2014-03-26T00:00:00  2014-06-29T17:45:00  2014-06-29T17:45:00   \n",
       "10  2013-03-27T00:00:00  2014-03-28T14:55:00  2014-03-28T14:55:00   \n",
       "11  2012-02-28T00:00:00  2014-03-28T14:39:00  2014-03-28T14:39:00   \n",
       "12  2014-03-07T00:00:00  2014-05-26T19:10:00  2014-05-26T19:10:00   \n",
       "13  2009-04-27T00:00:00  2014-04-25T11:17:00  2014-04-25T11:17:00   \n",
       "14  2006-10-18T00:00:00  2014-10-26T18:20:00  2014-10-26T18:20:00   \n",
       "15  2012-06-02T00:00:00  2014-06-15T15:11:00  2014-06-15T15:11:00   \n",
       "16  2013-03-11T00:00:00  2014-04-16T12:51:00  2014-04-16T12:51:00   \n",
       "17  2013-12-16T00:00:00  2014-01-09T19:29:00  2014-01-09T19:29:00   \n",
       "18  2014-10-19T00:00:00  2014-12-21T18:20:00  2014-12-21T18:20:00   \n",
       "19  2014-06-02T00:00:00  2014-08-13T15:04:00  2014-08-13T15:04:00   \n",
       "\n",
       "           name outcome_subtype     outcome_type sex_upon_outcome  \n",
       "0           NaN         Partner         Transfer      Intact Male  \n",
       "1          Lucy         Partner         Transfer    Spayed Female  \n",
       "2       *Johnny             NaN         Adoption    Neutered Male  \n",
       "3        Monday         Partner         Transfer    Neutered Male  \n",
       "4           NaN     Rabies Risk       Euthanasia          Unknown  \n",
       "5        *Edgar         Partner         Transfer      Intact Male  \n",
       "6           NaN       Suffering       Euthanasia          Unknown  \n",
       "7         *Ella         Partner         Transfer    Spayed Female  \n",
       "8          Lucy             NaN         Adoption    Intact Female  \n",
       "9        *Frida         Offsite         Adoption    Spayed Female  \n",
       "10  Stella Luna             NaN  Return to Owner    Spayed Female  \n",
       "11        Fancy         Partner         Transfer    Neutered Male  \n",
       "12         Kash          Foster         Adoption    Neutered Male  \n",
       "13        Sandy             NaN  Return to Owner    Spayed Female  \n",
       "14          Shy             NaN  Return to Owner    Neutered Male  \n",
       "15      *Truman         Partner         Transfer    Neutered Male  \n",
       "16        *Newt         Partner         Transfer    Neutered Male  \n",
       "17          NaN         Partner         Transfer      Intact Male  \n",
       "18      *Bonnie          Foster         Adoption    Spayed Female  \n",
       "19         Elsa             NaN         Adoption    Spayed Female  "
      ]
     },
     "execution_count": 113,
     "metadata": {},
     "output_type": "execute_result"
    }
   ],
   "source": [
    "df = pd.read_csv(\"aac_shelter_outcomes.csv\")\n",
    "df.head(20)"
   ]
  },
  {
   "cell_type": "code",
   "execution_count": 114,
   "metadata": {},
   "outputs": [
    {
     "data": {
      "text/plain": [
       "array(['Transfer', 'Adoption', 'Euthanasia', 'Return to Owner', 'Died',\n",
       "       'Disposal', 'Relocate', 'Missing', nan, 'Rto-Adopt'], dtype=object)"
      ]
     },
     "execution_count": 114,
     "metadata": {},
     "output_type": "execute_result"
    }
   ],
   "source": [
    "#check the unique values of outcome_type\n",
    "df[\"outcome_type\"].unique()"
   ]
  },
  {
   "cell_type": "markdown",
   "metadata": {},
   "source": [
    "# Convert outcome_type data"
   ]
  },
  {
   "cell_type": "code",
   "execution_count": 115,
   "metadata": {},
   "outputs": [],
   "source": [
    "#convert the data into two categories: 1 == adopted, 0 == not adopted\n",
    "df[\"outcome_type\"].replace({\"Transfer\": 0, \"Adoption\": 1, \"Euthanasia\": 0, \"Return to Owner\": 0,\n",
    "                            \"Died\": 0, \"Disposal\": 0, \"Relocate\": 0, \"Missing\": 0, \n",
    "                            \"nan\": 0, \"Rto-Adopt\": 0}, inplace = True)"
   ]
  },
  {
   "cell_type": "code",
   "execution_count": 116,
   "metadata": {},
   "outputs": [
    {
     "data": {
      "text/html": [
       "<div>\n",
       "<style scoped>\n",
       "    .dataframe tbody tr th:only-of-type {\n",
       "        vertical-align: middle;\n",
       "    }\n",
       "\n",
       "    .dataframe tbody tr th {\n",
       "        vertical-align: top;\n",
       "    }\n",
       "\n",
       "    .dataframe thead th {\n",
       "        text-align: right;\n",
       "    }\n",
       "</style>\n",
       "<table border=\"1\" class=\"dataframe\">\n",
       "  <thead>\n",
       "    <tr style=\"text-align: right;\">\n",
       "      <th></th>\n",
       "      <th>age_upon_outcome</th>\n",
       "      <th>animal_id</th>\n",
       "      <th>animal_type</th>\n",
       "      <th>breed</th>\n",
       "      <th>color</th>\n",
       "      <th>date_of_birth</th>\n",
       "      <th>datetime</th>\n",
       "      <th>monthyear</th>\n",
       "      <th>name</th>\n",
       "      <th>outcome_subtype</th>\n",
       "      <th>outcome_type</th>\n",
       "      <th>sex_upon_outcome</th>\n",
       "    </tr>\n",
       "  </thead>\n",
       "  <tbody>\n",
       "    <tr>\n",
       "      <th>0</th>\n",
       "      <td>2 weeks</td>\n",
       "      <td>A684346</td>\n",
       "      <td>Cat</td>\n",
       "      <td>Domestic Shorthair Mix</td>\n",
       "      <td>Orange Tabby</td>\n",
       "      <td>2014-07-07T00:00:00</td>\n",
       "      <td>2014-07-22T16:04:00</td>\n",
       "      <td>2014-07-22T16:04:00</td>\n",
       "      <td>NaN</td>\n",
       "      <td>Partner</td>\n",
       "      <td>0.0</td>\n",
       "      <td>Intact Male</td>\n",
       "    </tr>\n",
       "    <tr>\n",
       "      <th>1</th>\n",
       "      <td>1 year</td>\n",
       "      <td>A666430</td>\n",
       "      <td>Dog</td>\n",
       "      <td>Beagle Mix</td>\n",
       "      <td>White/Brown</td>\n",
       "      <td>2012-11-06T00:00:00</td>\n",
       "      <td>2013-11-07T11:47:00</td>\n",
       "      <td>2013-11-07T11:47:00</td>\n",
       "      <td>Lucy</td>\n",
       "      <td>Partner</td>\n",
       "      <td>0.0</td>\n",
       "      <td>Spayed Female</td>\n",
       "    </tr>\n",
       "    <tr>\n",
       "      <th>2</th>\n",
       "      <td>1 year</td>\n",
       "      <td>A675708</td>\n",
       "      <td>Dog</td>\n",
       "      <td>Pit Bull</td>\n",
       "      <td>Blue/White</td>\n",
       "      <td>2013-03-31T00:00:00</td>\n",
       "      <td>2014-06-03T14:20:00</td>\n",
       "      <td>2014-06-03T14:20:00</td>\n",
       "      <td>*Johnny</td>\n",
       "      <td>NaN</td>\n",
       "      <td>1.0</td>\n",
       "      <td>Neutered Male</td>\n",
       "    </tr>\n",
       "    <tr>\n",
       "      <th>3</th>\n",
       "      <td>9 years</td>\n",
       "      <td>A680386</td>\n",
       "      <td>Dog</td>\n",
       "      <td>Miniature Schnauzer Mix</td>\n",
       "      <td>White</td>\n",
       "      <td>2005-06-02T00:00:00</td>\n",
       "      <td>2014-06-15T15:50:00</td>\n",
       "      <td>2014-06-15T15:50:00</td>\n",
       "      <td>Monday</td>\n",
       "      <td>Partner</td>\n",
       "      <td>0.0</td>\n",
       "      <td>Neutered Male</td>\n",
       "    </tr>\n",
       "    <tr>\n",
       "      <th>4</th>\n",
       "      <td>5 months</td>\n",
       "      <td>A683115</td>\n",
       "      <td>Other</td>\n",
       "      <td>Bat Mix</td>\n",
       "      <td>Brown</td>\n",
       "      <td>2014-01-07T00:00:00</td>\n",
       "      <td>2014-07-07T14:04:00</td>\n",
       "      <td>2014-07-07T14:04:00</td>\n",
       "      <td>NaN</td>\n",
       "      <td>Rabies Risk</td>\n",
       "      <td>0.0</td>\n",
       "      <td>Unknown</td>\n",
       "    </tr>\n",
       "    <tr>\n",
       "      <th>5</th>\n",
       "      <td>4 months</td>\n",
       "      <td>A664462</td>\n",
       "      <td>Dog</td>\n",
       "      <td>Leonberger Mix</td>\n",
       "      <td>Brown/White</td>\n",
       "      <td>2013-06-03T00:00:00</td>\n",
       "      <td>2013-10-07T13:06:00</td>\n",
       "      <td>2013-10-07T13:06:00</td>\n",
       "      <td>*Edgar</td>\n",
       "      <td>Partner</td>\n",
       "      <td>0.0</td>\n",
       "      <td>Intact Male</td>\n",
       "    </tr>\n",
       "    <tr>\n",
       "      <th>6</th>\n",
       "      <td>1 year</td>\n",
       "      <td>A693700</td>\n",
       "      <td>Other</td>\n",
       "      <td>Squirrel Mix</td>\n",
       "      <td>Tan</td>\n",
       "      <td>2013-12-13T00:00:00</td>\n",
       "      <td>2014-12-13T12:20:00</td>\n",
       "      <td>2014-12-13T12:20:00</td>\n",
       "      <td>NaN</td>\n",
       "      <td>Suffering</td>\n",
       "      <td>0.0</td>\n",
       "      <td>Unknown</td>\n",
       "    </tr>\n",
       "    <tr>\n",
       "      <th>7</th>\n",
       "      <td>3 years</td>\n",
       "      <td>A692618</td>\n",
       "      <td>Dog</td>\n",
       "      <td>Chihuahua Shorthair Mix</td>\n",
       "      <td>Brown</td>\n",
       "      <td>2011-11-23T00:00:00</td>\n",
       "      <td>2014-12-08T15:55:00</td>\n",
       "      <td>2014-12-08T15:55:00</td>\n",
       "      <td>*Ella</td>\n",
       "      <td>Partner</td>\n",
       "      <td>0.0</td>\n",
       "      <td>Spayed Female</td>\n",
       "    </tr>\n",
       "    <tr>\n",
       "      <th>8</th>\n",
       "      <td>1 month</td>\n",
       "      <td>A685067</td>\n",
       "      <td>Cat</td>\n",
       "      <td>Domestic Shorthair Mix</td>\n",
       "      <td>Blue Tabby/White</td>\n",
       "      <td>2014-06-16T00:00:00</td>\n",
       "      <td>2014-08-14T18:45:00</td>\n",
       "      <td>2014-08-14T18:45:00</td>\n",
       "      <td>Lucy</td>\n",
       "      <td>NaN</td>\n",
       "      <td>1.0</td>\n",
       "      <td>Intact Female</td>\n",
       "    </tr>\n",
       "    <tr>\n",
       "      <th>9</th>\n",
       "      <td>3 months</td>\n",
       "      <td>A678580</td>\n",
       "      <td>Cat</td>\n",
       "      <td>Domestic Shorthair Mix</td>\n",
       "      <td>White/Black</td>\n",
       "      <td>2014-03-26T00:00:00</td>\n",
       "      <td>2014-06-29T17:45:00</td>\n",
       "      <td>2014-06-29T17:45:00</td>\n",
       "      <td>*Frida</td>\n",
       "      <td>Offsite</td>\n",
       "      <td>1.0</td>\n",
       "      <td>Spayed Female</td>\n",
       "    </tr>\n",
       "    <tr>\n",
       "      <th>10</th>\n",
       "      <td>1 year</td>\n",
       "      <td>A675405</td>\n",
       "      <td>Cat</td>\n",
       "      <td>Domestic Medium Hair Mix</td>\n",
       "      <td>Black/White</td>\n",
       "      <td>2013-03-27T00:00:00</td>\n",
       "      <td>2014-03-28T14:55:00</td>\n",
       "      <td>2014-03-28T14:55:00</td>\n",
       "      <td>Stella Luna</td>\n",
       "      <td>NaN</td>\n",
       "      <td>0.0</td>\n",
       "      <td>Spayed Female</td>\n",
       "    </tr>\n",
       "    <tr>\n",
       "      <th>11</th>\n",
       "      <td>2 years</td>\n",
       "      <td>A673652</td>\n",
       "      <td>Dog</td>\n",
       "      <td>Papillon/Border Collie</td>\n",
       "      <td>Black/White</td>\n",
       "      <td>2012-02-28T00:00:00</td>\n",
       "      <td>2014-03-28T14:39:00</td>\n",
       "      <td>2014-03-28T14:39:00</td>\n",
       "      <td>Fancy</td>\n",
       "      <td>Partner</td>\n",
       "      <td>0.0</td>\n",
       "      <td>Neutered Male</td>\n",
       "    </tr>\n",
       "    <tr>\n",
       "      <th>12</th>\n",
       "      <td>2 months</td>\n",
       "      <td>A677679</td>\n",
       "      <td>Dog</td>\n",
       "      <td>Chihuahua Shorthair/Pomeranian</td>\n",
       "      <td>Black</td>\n",
       "      <td>2014-03-07T00:00:00</td>\n",
       "      <td>2014-05-26T19:10:00</td>\n",
       "      <td>2014-05-26T19:10:00</td>\n",
       "      <td>Kash</td>\n",
       "      <td>Foster</td>\n",
       "      <td>1.0</td>\n",
       "      <td>Neutered Male</td>\n",
       "    </tr>\n",
       "    <tr>\n",
       "      <th>13</th>\n",
       "      <td>4 years</td>\n",
       "      <td>A640655</td>\n",
       "      <td>Dog</td>\n",
       "      <td>Miniature Schnauzer/Miniature Poodle</td>\n",
       "      <td>White</td>\n",
       "      <td>2009-04-27T00:00:00</td>\n",
       "      <td>2014-04-25T11:17:00</td>\n",
       "      <td>2014-04-25T11:17:00</td>\n",
       "      <td>Sandy</td>\n",
       "      <td>NaN</td>\n",
       "      <td>0.0</td>\n",
       "      <td>Spayed Female</td>\n",
       "    </tr>\n",
       "    <tr>\n",
       "      <th>14</th>\n",
       "      <td>8 years</td>\n",
       "      <td>A690350</td>\n",
       "      <td>Dog</td>\n",
       "      <td>Labrador Retriever Mix</td>\n",
       "      <td>Black</td>\n",
       "      <td>2006-10-18T00:00:00</td>\n",
       "      <td>2014-10-26T18:20:00</td>\n",
       "      <td>2014-10-26T18:20:00</td>\n",
       "      <td>Shy</td>\n",
       "      <td>NaN</td>\n",
       "      <td>0.0</td>\n",
       "      <td>Neutered Male</td>\n",
       "    </tr>\n",
       "    <tr>\n",
       "      <th>15</th>\n",
       "      <td>2 years</td>\n",
       "      <td>A680396</td>\n",
       "      <td>Dog</td>\n",
       "      <td>Rat Terrier Mix</td>\n",
       "      <td>White/Black</td>\n",
       "      <td>2012-06-02T00:00:00</td>\n",
       "      <td>2014-06-15T15:11:00</td>\n",
       "      <td>2014-06-15T15:11:00</td>\n",
       "      <td>*Truman</td>\n",
       "      <td>Partner</td>\n",
       "      <td>0.0</td>\n",
       "      <td>Neutered Male</td>\n",
       "    </tr>\n",
       "    <tr>\n",
       "      <th>16</th>\n",
       "      <td>1 year</td>\n",
       "      <td>A674298</td>\n",
       "      <td>Dog</td>\n",
       "      <td>Pit Bull Mix</td>\n",
       "      <td>Brown Brindle/White</td>\n",
       "      <td>2013-03-11T00:00:00</td>\n",
       "      <td>2014-04-16T12:51:00</td>\n",
       "      <td>2014-04-16T12:51:00</td>\n",
       "      <td>*Newt</td>\n",
       "      <td>Partner</td>\n",
       "      <td>0.0</td>\n",
       "      <td>Neutered Male</td>\n",
       "    </tr>\n",
       "    <tr>\n",
       "      <th>17</th>\n",
       "      <td>3 weeks</td>\n",
       "      <td>A670420</td>\n",
       "      <td>Cat</td>\n",
       "      <td>Domestic Shorthair Mix</td>\n",
       "      <td>Black/White</td>\n",
       "      <td>2013-12-16T00:00:00</td>\n",
       "      <td>2014-01-09T19:29:00</td>\n",
       "      <td>2014-01-09T19:29:00</td>\n",
       "      <td>NaN</td>\n",
       "      <td>Partner</td>\n",
       "      <td>0.0</td>\n",
       "      <td>Intact Male</td>\n",
       "    </tr>\n",
       "    <tr>\n",
       "      <th>18</th>\n",
       "      <td>2 months</td>\n",
       "      <td>A692378</td>\n",
       "      <td>Dog</td>\n",
       "      <td>German Shepherd/Labrador Retriever</td>\n",
       "      <td>Black/White</td>\n",
       "      <td>2014-10-19T00:00:00</td>\n",
       "      <td>2014-12-21T18:20:00</td>\n",
       "      <td>2014-12-21T18:20:00</td>\n",
       "      <td>*Bonnie</td>\n",
       "      <td>Foster</td>\n",
       "      <td>1.0</td>\n",
       "      <td>Spayed Female</td>\n",
       "    </tr>\n",
       "    <tr>\n",
       "      <th>19</th>\n",
       "      <td>2 months</td>\n",
       "      <td>A684460</td>\n",
       "      <td>Cat</td>\n",
       "      <td>Domestic Shorthair Mix</td>\n",
       "      <td>Brown Tabby</td>\n",
       "      <td>2014-06-02T00:00:00</td>\n",
       "      <td>2014-08-13T15:04:00</td>\n",
       "      <td>2014-08-13T15:04:00</td>\n",
       "      <td>Elsa</td>\n",
       "      <td>NaN</td>\n",
       "      <td>1.0</td>\n",
       "      <td>Spayed Female</td>\n",
       "    </tr>\n",
       "  </tbody>\n",
       "</table>\n",
       "</div>"
      ],
      "text/plain": [
       "   age_upon_outcome animal_id animal_type  \\\n",
       "0           2 weeks   A684346         Cat   \n",
       "1            1 year   A666430         Dog   \n",
       "2            1 year   A675708         Dog   \n",
       "3           9 years   A680386         Dog   \n",
       "4          5 months   A683115       Other   \n",
       "5          4 months   A664462         Dog   \n",
       "6            1 year   A693700       Other   \n",
       "7           3 years   A692618         Dog   \n",
       "8           1 month   A685067         Cat   \n",
       "9          3 months   A678580         Cat   \n",
       "10           1 year   A675405         Cat   \n",
       "11          2 years   A673652         Dog   \n",
       "12         2 months   A677679         Dog   \n",
       "13          4 years   A640655         Dog   \n",
       "14          8 years   A690350         Dog   \n",
       "15          2 years   A680396         Dog   \n",
       "16           1 year   A674298         Dog   \n",
       "17          3 weeks   A670420         Cat   \n",
       "18         2 months   A692378         Dog   \n",
       "19         2 months   A684460         Cat   \n",
       "\n",
       "                                   breed                color  \\\n",
       "0                 Domestic Shorthair Mix         Orange Tabby   \n",
       "1                             Beagle Mix          White/Brown   \n",
       "2                               Pit Bull           Blue/White   \n",
       "3                Miniature Schnauzer Mix                White   \n",
       "4                                Bat Mix                Brown   \n",
       "5                         Leonberger Mix          Brown/White   \n",
       "6                           Squirrel Mix                  Tan   \n",
       "7                Chihuahua Shorthair Mix                Brown   \n",
       "8                 Domestic Shorthair Mix     Blue Tabby/White   \n",
       "9                 Domestic Shorthair Mix          White/Black   \n",
       "10              Domestic Medium Hair Mix          Black/White   \n",
       "11                Papillon/Border Collie          Black/White   \n",
       "12        Chihuahua Shorthair/Pomeranian                Black   \n",
       "13  Miniature Schnauzer/Miniature Poodle                White   \n",
       "14                Labrador Retriever Mix                Black   \n",
       "15                       Rat Terrier Mix          White/Black   \n",
       "16                          Pit Bull Mix  Brown Brindle/White   \n",
       "17                Domestic Shorthair Mix          Black/White   \n",
       "18    German Shepherd/Labrador Retriever          Black/White   \n",
       "19                Domestic Shorthair Mix          Brown Tabby   \n",
       "\n",
       "          date_of_birth             datetime            monthyear  \\\n",
       "0   2014-07-07T00:00:00  2014-07-22T16:04:00  2014-07-22T16:04:00   \n",
       "1   2012-11-06T00:00:00  2013-11-07T11:47:00  2013-11-07T11:47:00   \n",
       "2   2013-03-31T00:00:00  2014-06-03T14:20:00  2014-06-03T14:20:00   \n",
       "3   2005-06-02T00:00:00  2014-06-15T15:50:00  2014-06-15T15:50:00   \n",
       "4   2014-01-07T00:00:00  2014-07-07T14:04:00  2014-07-07T14:04:00   \n",
       "5   2013-06-03T00:00:00  2013-10-07T13:06:00  2013-10-07T13:06:00   \n",
       "6   2013-12-13T00:00:00  2014-12-13T12:20:00  2014-12-13T12:20:00   \n",
       "7   2011-11-23T00:00:00  2014-12-08T15:55:00  2014-12-08T15:55:00   \n",
       "8   2014-06-16T00:00:00  2014-08-14T18:45:00  2014-08-14T18:45:00   \n",
       "9   2014-03-26T00:00:00  2014-06-29T17:45:00  2014-06-29T17:45:00   \n",
       "10  2013-03-27T00:00:00  2014-03-28T14:55:00  2014-03-28T14:55:00   \n",
       "11  2012-02-28T00:00:00  2014-03-28T14:39:00  2014-03-28T14:39:00   \n",
       "12  2014-03-07T00:00:00  2014-05-26T19:10:00  2014-05-26T19:10:00   \n",
       "13  2009-04-27T00:00:00  2014-04-25T11:17:00  2014-04-25T11:17:00   \n",
       "14  2006-10-18T00:00:00  2014-10-26T18:20:00  2014-10-26T18:20:00   \n",
       "15  2012-06-02T00:00:00  2014-06-15T15:11:00  2014-06-15T15:11:00   \n",
       "16  2013-03-11T00:00:00  2014-04-16T12:51:00  2014-04-16T12:51:00   \n",
       "17  2013-12-16T00:00:00  2014-01-09T19:29:00  2014-01-09T19:29:00   \n",
       "18  2014-10-19T00:00:00  2014-12-21T18:20:00  2014-12-21T18:20:00   \n",
       "19  2014-06-02T00:00:00  2014-08-13T15:04:00  2014-08-13T15:04:00   \n",
       "\n",
       "           name outcome_subtype  outcome_type sex_upon_outcome  \n",
       "0           NaN         Partner           0.0      Intact Male  \n",
       "1          Lucy         Partner           0.0    Spayed Female  \n",
       "2       *Johnny             NaN           1.0    Neutered Male  \n",
       "3        Monday         Partner           0.0    Neutered Male  \n",
       "4           NaN     Rabies Risk           0.0          Unknown  \n",
       "5        *Edgar         Partner           0.0      Intact Male  \n",
       "6           NaN       Suffering           0.0          Unknown  \n",
       "7         *Ella         Partner           0.0    Spayed Female  \n",
       "8          Lucy             NaN           1.0    Intact Female  \n",
       "9        *Frida         Offsite           1.0    Spayed Female  \n",
       "10  Stella Luna             NaN           0.0    Spayed Female  \n",
       "11        Fancy         Partner           0.0    Neutered Male  \n",
       "12         Kash          Foster           1.0    Neutered Male  \n",
       "13        Sandy             NaN           0.0    Spayed Female  \n",
       "14          Shy             NaN           0.0    Neutered Male  \n",
       "15      *Truman         Partner           0.0    Neutered Male  \n",
       "16        *Newt         Partner           0.0    Neutered Male  \n",
       "17          NaN         Partner           0.0      Intact Male  \n",
       "18      *Bonnie          Foster           1.0    Spayed Female  \n",
       "19         Elsa             NaN           1.0    Spayed Female  "
      ]
     },
     "execution_count": 116,
     "metadata": {},
     "output_type": "execute_result"
    }
   ],
   "source": [
    "df.head(20)"
   ]
  },
  {
   "cell_type": "markdown",
   "metadata": {},
   "source": [
    "# Handle Missing Values"
   ]
  },
  {
   "cell_type": "code",
   "execution_count": 117,
   "metadata": {},
   "outputs": [
    {
     "data": {
      "text/plain": [
       "age_upon_outcome        8\n",
       "animal_id               0\n",
       "animal_type             0\n",
       "breed                   0\n",
       "color                   0\n",
       "date_of_birth           0\n",
       "datetime                0\n",
       "monthyear               0\n",
       "name                23886\n",
       "outcome_subtype     42293\n",
       "outcome_type           12\n",
       "sex_upon_outcome        2\n",
       "dtype: int64"
      ]
     },
     "execution_count": 117,
     "metadata": {},
     "output_type": "execute_result"
    }
   ],
   "source": [
    "#checking for missing values\n",
    "df.isnull().sum()"
   ]
  },
  {
   "cell_type": "code",
   "execution_count": 118,
   "metadata": {},
   "outputs": [],
   "source": [
    "df[\"outcome_type\"].fillna(df['outcome_type'].median(), inplace = True)\n",
    "#impute missing values in outcome_type by median. is able to do so because it is a continuous variable"
   ]
  },
  {
   "cell_type": "code",
   "execution_count": 119,
   "metadata": {},
   "outputs": [],
   "source": [
    "df.groupby([\"name\"]).agg(['mean', 'count'])\n",
    "df.groupby(['name']).agg({'name':'count'})\n",
    "df['name'].fillna('Zuzu', inplace = True)\n",
    "#fill in missing values by using group_by. can use it because it is a discrete variable"
   ]
  },
  {
   "cell_type": "code",
   "execution_count": 120,
   "metadata": {
    "scrolled": true
   },
   "outputs": [
    {
     "data": {
      "text/plain": [
       "age_upon_outcome        8\n",
       "animal_id               0\n",
       "animal_type             0\n",
       "breed                   0\n",
       "color                   0\n",
       "date_of_birth           0\n",
       "datetime                0\n",
       "monthyear               0\n",
       "name                    0\n",
       "outcome_subtype     42293\n",
       "outcome_type            0\n",
       "sex_upon_outcome        2\n",
       "dtype: int64"
      ]
     },
     "execution_count": 120,
     "metadata": {},
     "output_type": "execute_result"
    }
   ],
   "source": [
    "#check missing values again\n",
    "df.isnull().sum()"
   ]
  },
  {
   "cell_type": "code",
   "execution_count": 121,
   "metadata": {},
   "outputs": [],
   "source": [
    "df.groupby(['outcome_subtype']).agg(['mean','count'])\n",
    "df.groupby(['outcome_subtype']).agg({'outcome_subtype':'count'})\n",
    "df['outcome_subtype'].fillna('Partner', inplace = True)\n",
    "#fill in missing values by using group_by. can use it because it is a discrete variable"
   ]
  },
  {
   "cell_type": "code",
   "execution_count": 122,
   "metadata": {},
   "outputs": [
    {
     "data": {
      "text/plain": [
       "age_upon_outcome    8\n",
       "animal_id           0\n",
       "animal_type         0\n",
       "breed               0\n",
       "color               0\n",
       "date_of_birth       0\n",
       "datetime            0\n",
       "monthyear           0\n",
       "name                0\n",
       "outcome_subtype     0\n",
       "outcome_type        0\n",
       "sex_upon_outcome    2\n",
       "dtype: int64"
      ]
     },
     "execution_count": 122,
     "metadata": {},
     "output_type": "execute_result"
    }
   ],
   "source": [
    "#check missing values again\n",
    "df.isnull().sum()"
   ]
  },
  {
   "cell_type": "code",
   "execution_count": 123,
   "metadata": {},
   "outputs": [],
   "source": [
    "df.groupby(['sex_upon_outcome']).agg(['mean', 'count'])\n",
    "df.groupby(['sex_upon_outcome']).agg({'sex_upon_outcome':'count'})\n",
    "df['sex_upon_outcome'].fillna('Neutered Male', inplace = True)\n",
    "#fill in missing values by using group_by. can use it because it is a discrete variable"
   ]
  },
  {
   "cell_type": "code",
   "execution_count": 124,
   "metadata": {
    "scrolled": true
   },
   "outputs": [
    {
     "data": {
      "text/plain": [
       "age_upon_outcome    8\n",
       "animal_id           0\n",
       "animal_type         0\n",
       "breed               0\n",
       "color               0\n",
       "date_of_birth       0\n",
       "datetime            0\n",
       "monthyear           0\n",
       "name                0\n",
       "outcome_subtype     0\n",
       "outcome_type        0\n",
       "sex_upon_outcome    0\n",
       "dtype: int64"
      ]
     },
     "execution_count": 124,
     "metadata": {},
     "output_type": "execute_result"
    }
   ],
   "source": [
    "df.isnull().sum()\n",
    "#no more missing values"
   ]
  },
  {
   "cell_type": "markdown",
   "metadata": {},
   "source": [
    "# Check For Outliers"
   ]
  },
  {
   "cell_type": "markdown",
   "metadata": {},
   "source": [
    "### There are no outliers because all of the columns are of an object type except for the outcome_type column which was changed in the beginning. Outliers cannot be found in a discrete variable. Outcome_type cannot have any outliers because values can only be 0 or 1."
   ]
  },
  {
   "cell_type": "markdown",
   "metadata": {},
   "source": [
    "# Visualizing the data and checking distributions"
   ]
  },
  {
   "cell_type": "code",
   "execution_count": 125,
   "metadata": {},
   "outputs": [
    {
     "data": {
      "text/plain": [
       "<matplotlib.axes._subplots.AxesSubplot at 0x25d79320970>"
      ]
     },
     "execution_count": 125,
     "metadata": {},
     "output_type": "execute_result"
    },
    {
     "data": {
      "image/png": "[encoded data removed]",
      "text/plain": [
       "<Figure size 432x288 with 1 Axes>"
      ]
     },
     "metadata": {
      "needs_background": "light"
     },
     "output_type": "display_data"
    }
   ],
   "source": [
    "#age_upon_outcome\n",
    "df['outcome_type'].hist()"
   ]
  },
  {
   "cell_type": "markdown",
   "metadata": {},
   "source": [
    "### Can only visualize outcome_type because it is the only column that has numeric data. The other columns cannot be visualized because they are discrete variables and hold no numeric values to visualize. No need to scale or transform this data"
   ]
  },
  {
   "cell_type": "markdown",
   "metadata": {},
   "source": [
    "# Choosing features as predictors"
   ]
  },
  {
   "cell_type": "code",
   "execution_count": 126,
   "metadata": {},
   "outputs": [],
   "source": [
    "#define X and y\n",
    "X = df[['age_upon_outcome', 'animal_type', 'breed', 'color','sex_upon_outcome']]\n",
    "y = df['outcome_type']\n",
    "#choosing age_upon_outcome because the age of the pet matters for adoption\n",
    "#choosing animal_type because owners might be looking for a specific animal\n",
    "#choosing breed because owners might be looking for a specific breed\n",
    "#choosing color because owners might prefer a color\n",
    "#choosing sex_upon_outcome because owners might prefer a gender\n",
    "#these features all matter in terms of what type of animal the owner might be looking for"
   ]
  },
  {
   "cell_type": "markdown",
   "metadata": {},
   "source": [
    "# Naive Bayes"
   ]
  },
  {
   "cell_type": "code",
   "execution_count": 140,
   "metadata": {},
   "outputs": [],
   "source": [
    "from sklearn.naive_bayes import GaussianNB\n",
    "from sklearn.metrics import accuracy_score\n",
    "from sklearn.preprocessing import LabelEncoder\n",
    "\n",
    "def label_encode(df, columns):\n",
    "    for col in columns:\n",
    "        le = LabelEncoder()\n",
    "        col_values_unique = list(df[col].unique())\n",
    "        le_fitted = le.fit(col_values_unique)\n",
    " \n",
    "        col_values = list(df[col].values)\n",
    "        #le.classes_\n",
    "        col_values_transformed = le.transform(col_values)\n",
    "        df[col] = col_values_transformed"
   ]
  },
  {
   "cell_type": "code",
   "execution_count": 141,
   "metadata": {
    "scrolled": true
   },
   "outputs": [
    {
     "name": "stderr",
     "output_type": "stream",
     "text": [
      "<ipython-input-140-6380479ca61b>:14: SettingWithCopyWarning: \n",
      "A value is trying to be set on a copy of a slice from a DataFrame.\n",
      "Try using .loc[row_indexer,col_indexer] = value instead\n",
      "\n",
      "See the caveats in the documentation: https://pandas.pydata.org/pandas-docs/stable/user_guide/indexing.html#returning-a-view-versus-a-copy\n",
      "  df[col] = col_values_transformed\n"
     ]
    }
   ],
   "source": [
    "label_encode(X, X.columns.values)\n"
   ]
  },
  {
   "cell_type": "code",
   "execution_count": 142,
   "metadata": {},
   "outputs": [],
   "source": [
    "from sklearn.model_selection import train_test_split\n",
    "X_train, X_test, y_train, y_test = train_test_split(X, y, test_size = 0.20, random_state = 1)"
   ]
  },
  {
   "cell_type": "code",
   "execution_count": 143,
   "metadata": {},
   "outputs": [
    {
     "data": {
      "text/plain": [
       "array([1., 0., 1., ..., 1., 0., 1.])"
      ]
     },
     "execution_count": 143,
     "metadata": {},
     "output_type": "execute_result"
    }
   ],
   "source": [
    "nb = GaussianNB()\n",
    "nb.fit(X_train, y_train)\n",
    "y_pred = nb.predict(X_test)\n",
    "y_pred"
   ]
  },
  {
   "cell_type": "code",
   "execution_count": 144,
   "metadata": {
    "scrolled": true
   },
   "outputs": [
    {
     "name": "stdout",
     "output_type": "stream",
     "text": [
      "0.6999105545617174\n",
      "0.7350588023838753\n"
     ]
    }
   ],
   "source": [
    "from sklearn import metrics\n",
    "print(metrics.accuracy_score(y_test, y_pred))\n",
    "print(metrics.roc_auc_score(y_test, y_pred))"
   ]
  },
  {
   "cell_type": "markdown",
   "metadata": {},
   "source": [
    "### The Naive Bayes Model has an accuracy score of 0.6999 and an AUC Score of 0.735\n"
   ]
  },
  {
   "cell_type": "markdown",
   "metadata": {},
   "source": [
    "# Support Vector Machines(SVM)"
   ]
  },
  {
   "cell_type": "code",
   "execution_count": 155,
   "metadata": {},
   "outputs": [],
   "source": [
    "X = df[['age_upon_outcome', 'animal_type', 'breed', 'color','sex_upon_outcome']]\n",
    "y = df['outcome_type']"
   ]
  },
  {
   "cell_type": "code",
   "execution_count": 157,
   "metadata": {},
   "outputs": [],
   "source": [
    "from sklearn.metrics import accuracy_score\n",
    "from sklearn.preprocessing import LabelEncoder\n",
    "\n",
    "def label_encode(df, columns):\n",
    "    for col in columns:\n",
    "        le = LabelEncoder()\n",
    "        col_values_unique = list(df[col].unique())\n",
    "        le_fitted = le.fit(col_values_unique)\n",
    " \n",
    "        col_values = list(df[col].values)\n",
    "        #le.classes_\n",
    "        col_values_transformed = le.transform(col_values)\n",
    "        df[col] = col_values_transformed"
   ]
  },
  {
   "cell_type": "code",
   "execution_count": 158,
   "metadata": {
    "scrolled": true
   },
   "outputs": [
    {
     "name": "stderr",
     "output_type": "stream",
     "text": [
      "<ipython-input-157-0fee95dc3898>:13: SettingWithCopyWarning: \n",
      "A value is trying to be set on a copy of a slice from a DataFrame.\n",
      "Try using .loc[row_indexer,col_indexer] = value instead\n",
      "\n",
      "See the caveats in the documentation: https://pandas.pydata.org/pandas-docs/stable/user_guide/indexing.html#returning-a-view-versus-a-copy\n",
      "  df[col] = col_values_transformed\n"
     ]
    }
   ],
   "source": [
    "label_encode(X, X.columns.values)"
   ]
  },
  {
   "cell_type": "code",
   "execution_count": 159,
   "metadata": {},
   "outputs": [],
   "source": [
    "from sklearn.model_selection import train_test_split\n",
    "X_train, X_test, y_train, y_test = train_test_split(X, y, test_size = 0.20, random_state = 1)"
   ]
  },
  {
   "cell_type": "code",
   "execution_count": 160,
   "metadata": {},
   "outputs": [
    {
     "data": {
      "text/plain": [
       "SVC()"
      ]
     },
     "execution_count": 160,
     "metadata": {},
     "output_type": "execute_result"
    }
   ],
   "source": [
    "from sklearn import svm\n",
    "\n",
    "# instantiate model\n",
    "model = svm.SVC() \n",
    "\n",
    "# fit model\n",
    "model.fit(X_train, y_train)"
   ]
  },
  {
   "cell_type": "code",
   "execution_count": 161,
   "metadata": {},
   "outputs": [
    {
     "data": {
      "text/plain": [
       "array([0., 0., 0., ..., 0., 0., 0.])"
      ]
     },
     "execution_count": 161,
     "metadata": {},
     "output_type": "execute_result"
    }
   ],
   "source": [
    "y_pred = model.predict(X_test)\n",
    "y_pred"
   ]
  },
  {
   "cell_type": "code",
   "execution_count": 162,
   "metadata": {
    "scrolled": true
   },
   "outputs": [
    {
     "name": "stdout",
     "output_type": "stream",
     "text": [
      "0.5842064911832354\n",
      "0.5\n"
     ]
    }
   ],
   "source": [
    "from sklearn import metrics\n",
    "print(metrics.accuracy_score(y_test, y_pred))\n",
    "print(metrics.roc_auc_score(y_test, y_pred))"
   ]
  },
  {
   "cell_type": "markdown",
   "metadata": {},
   "source": [
    "### The Support Vector Machines(SVM) Model has an accuracy score of 0.5842 and an AUC score of 0.5"
   ]
  },
  {
   "cell_type": "markdown",
   "metadata": {},
   "source": [
    "# K-Nearest Neighbor(KNN)"
   ]
  },
  {
   "cell_type": "code",
   "execution_count": 163,
   "metadata": {},
   "outputs": [],
   "source": [
    "X = df[['age_upon_outcome', 'animal_type', 'breed', 'color','sex_upon_outcome']]\n",
    "y = df['outcome_type']"
   ]
  },
  {
   "cell_type": "code",
   "execution_count": 164,
   "metadata": {},
   "outputs": [],
   "source": [
    "from sklearn.metrics import accuracy_score\n",
    "from sklearn.preprocessing import LabelEncoder\n",
    "\n",
    "def label_encode(df, columns):\n",
    "    for col in columns:\n",
    "        le = LabelEncoder()\n",
    "        col_values_unique = list(df[col].unique())\n",
    "        le_fitted = le.fit(col_values_unique)\n",
    " \n",
    "        col_values = list(df[col].values)\n",
    "        #le.classes_\n",
    "        col_values_transformed = le.transform(col_values)\n",
    "        df[col] = col_values_transformed"
   ]
  },
  {
   "cell_type": "code",
   "execution_count": 165,
   "metadata": {},
   "outputs": [
    {
     "name": "stderr",
     "output_type": "stream",
     "text": [
      "<ipython-input-164-0fee95dc3898>:13: SettingWithCopyWarning: \n",
      "A value is trying to be set on a copy of a slice from a DataFrame.\n",
      "Try using .loc[row_indexer,col_indexer] = value instead\n",
      "\n",
      "See the caveats in the documentation: https://pandas.pydata.org/pandas-docs/stable/user_guide/indexing.html#returning-a-view-versus-a-copy\n",
      "  df[col] = col_values_transformed\n"
     ]
    }
   ],
   "source": [
    "label_encode(X, X.columns.values)"
   ]
  },
  {
   "cell_type": "code",
   "execution_count": 166,
   "metadata": {},
   "outputs": [],
   "source": [
    "from sklearn.model_selection import train_test_split\n",
    "X_train, X_test, y_train, y_test = train_test_split(X, y, test_size = 0.20, random_state = 1)"
   ]
  },
  {
   "cell_type": "code",
   "execution_count": 167,
   "metadata": {},
   "outputs": [
    {
     "data": {
      "text/plain": [
       "KNeighborsRegressor()"
      ]
     },
     "execution_count": 167,
     "metadata": {},
     "output_type": "execute_result"
    }
   ],
   "source": [
    "from sklearn.neighbors import KNeighborsRegressor\n",
    "\n",
    "# instantiate model\n",
    "model = KNeighborsRegressor(n_neighbors=5)\n",
    "\n",
    "# fit model\n",
    "model.fit(X_train, y_train)"
   ]
  },
  {
   "cell_type": "code",
   "execution_count": 168,
   "metadata": {},
   "outputs": [
    {
     "data": {
      "text/plain": [
       "array([1. , 0. , 1. , ..., 0.6, 0.8, 0.6])"
      ]
     },
     "execution_count": 168,
     "metadata": {},
     "output_type": "execute_result"
    }
   ],
   "source": [
    "y_pred = model.predict(X_test)\n",
    "y_pred"
   ]
  },
  {
   "cell_type": "code",
   "execution_count": 178,
   "metadata": {
    "scrolled": true
   },
   "outputs": [
    {
     "name": "stdout",
     "output_type": "stream",
     "text": [
      "0.7464221824686941\n",
      "0.7401606394928968\n"
     ]
    }
   ],
   "source": [
    "from sklearn import metrics\n",
    "print(metrics.accuracy_score(y_test, y_pred.round()))\n",
    "print(metrics.roc_auc_score(y_test, y_pred.round()))"
   ]
  },
  {
   "cell_type": "markdown",
   "metadata": {},
   "source": [
    "### The K-Nearest Neighbor(KNN) Model has an accuracy score of 0.7464 and an AUC score of 0.74016"
   ]
  },
  {
   "cell_type": "markdown",
   "metadata": {},
   "source": [
    "# Random Forest"
   ]
  },
  {
   "cell_type": "code",
   "execution_count": 182,
   "metadata": {},
   "outputs": [],
   "source": [
    "X = df[['age_upon_outcome', 'animal_type', 'breed', 'color','sex_upon_outcome']]\n",
    "y = df['outcome_type']"
   ]
  },
  {
   "cell_type": "code",
   "execution_count": 183,
   "metadata": {},
   "outputs": [],
   "source": [
    "from sklearn.metrics import accuracy_score\n",
    "from sklearn.preprocessing import LabelEncoder\n",
    "\n",
    "def label_encode(df, columns):\n",
    "    for col in columns:\n",
    "        le = LabelEncoder()\n",
    "        col_values_unique = list(df[col].unique())\n",
    "        le_fitted = le.fit(col_values_unique)\n",
    " \n",
    "        col_values = list(df[col].values)\n",
    "        #le.classes_\n",
    "        col_values_transformed = le.transform(col_values)\n",
    "        df[col] = col_values_transformed"
   ]
  },
  {
   "cell_type": "code",
   "execution_count": 184,
   "metadata": {},
   "outputs": [
    {
     "name": "stderr",
     "output_type": "stream",
     "text": [
      "<ipython-input-183-0fee95dc3898>:13: SettingWithCopyWarning: \n",
      "A value is trying to be set on a copy of a slice from a DataFrame.\n",
      "Try using .loc[row_indexer,col_indexer] = value instead\n",
      "\n",
      "See the caveats in the documentation: https://pandas.pydata.org/pandas-docs/stable/user_guide/indexing.html#returning-a-view-versus-a-copy\n",
      "  df[col] = col_values_transformed\n"
     ]
    }
   ],
   "source": [
    "label_encode(X, X.columns.values)"
   ]
  },
  {
   "cell_type": "code",
   "execution_count": 185,
   "metadata": {},
   "outputs": [],
   "source": [
    "from sklearn.model_selection import train_test_split\n",
    "X_train, X_test, y_train, y_test = train_test_split(X, y, test_size = 0.20, random_state = 1)"
   ]
  },
  {
   "cell_type": "code",
   "execution_count": 186,
   "metadata": {},
   "outputs": [],
   "source": [
    "from sklearn.ensemble import RandomForestRegressor\n",
    "rf = RandomForestRegressor(n_estimators = 1000, random_state = 42)\n",
    "rf.fit(X_train, y_train);\n",
    "y_pred = rf.predict(X_test)"
   ]
  },
  {
   "cell_type": "code",
   "execution_count": 187,
   "metadata": {},
   "outputs": [
    {
     "name": "stdout",
     "output_type": "stream",
     "text": [
      "0.7464221824686941\n",
      "0.7401606394928968\n"
     ]
    }
   ],
   "source": [
    "from sklearn import metrics\n",
    "print(metrics.accuracy_score(y_test, y_pred.round()))\n",
    "print(metrics.roc_auc_score(y_test, y_pred.round()))"
   ]
  },
  {
   "cell_type": "markdown",
   "metadata": {},
   "source": [
    "### The Random Forest Model has an accuracy score of 0.7464 and an AUC score of 0.74016"
   ]
  },
  {
   "cell_type": "markdown",
   "metadata": {},
   "source": [
    "## The SVM Model had the lowest accuracy score at 0.5842. The Naive Bayes Model had the third lowest accuracy score at 0.6999. The KNN Model and the Random Forest Model had the highest accuracy scores at 0.7464. The KNN Model and the Random Forest Model performed the best."
   ]
  },
  {
   "cell_type": "markdown",
   "metadata": {},
   "source": [
    "### My best models were the KNN Model and the Random Forest Model. Both had the same accuracy scores and AUC scores. AUC is the percentage of the ROC plot that is underneath the curve. The AUC score was 0.74016 which is a fairly good score. It represents the likelihood that the classifier will assign a higher predicted probability to the positive observation. The accuracy score was 0.7464 which means that the model has about 75% correct predictions. The greater the value, the better is the performance of our model. Overall, this isn't a a bad model because the scores are decent but it could still be much more accurate"
   ]
  }
 ],
 "metadata": {
  "kernelspec": {
   "display_name": "Python 3",
   "language": "python",
   "name": "python3"
  },
  "language_info": {
   "codemirror_mode": {
    "name": "ipython",
    "version": 3
   },
   "file_extension": ".py",
   "mimetype": "text/x-python",
   "name": "python",
   "nbconvert_exporter": "python",
   "pygments_lexer": "ipython3",
   "version": "3.8.3"
  }
 },
 "nbformat": 4,
 "nbformat_minor": 4
}
